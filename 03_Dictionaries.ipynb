{
 "cells": [
  {
   "cell_type": "markdown",
   "id": "13efacc6-8eba-49e7-b702-17412d4dbd5b",
   "metadata": {},
   "source": [
    "# DICTIONARIES in PYTHON"
   ]
  },
  {
   "cell_type": "markdown",
   "id": "7dc7369d-c93d-4a36-944e-89326504380f",
   "metadata": {},
   "source": [
    "1. Python dictionaries are like hash tables\n",
    "2. Dictionaries work like associative arrays and consists of key-value pair\n",
    "3. A dictionary key can be almost any Python type usually they are numbers or strings\n",
    "4. Dictionaries are enclosed with '{ }' and values can be assigned and accessed by '[ ]'"
   ]
  },
  {
   "cell_type": "code",
   "execution_count": 1,
   "id": "ffb454a9-0eac-4860-b5d1-4306fed862b8",
   "metadata": {},
   "outputs": [],
   "source": [
    "# make a dictionary with {} and : to signify a key and a value\n",
    "\n",
    "my_dict = {\"key1\": \"value1\", \"key2\": \"value2\", \"key3\": \"value3\"}"
   ]
  },
  {
   "cell_type": "code",
   "execution_count": 2,
   "id": "2f86b103-d95d-4b50-bd6d-12b738e817b5",
   "metadata": {},
   "outputs": [
    {
     "data": {
      "text/plain": [
       "{'key1': 'value1', 'key2': 'value2', 'key3': 'value3'}"
      ]
     },
     "execution_count": 2,
     "metadata": {},
     "output_type": "execute_result"
    }
   ],
   "source": [
    "my_dict"
   ]
  },
  {
   "cell_type": "code",
   "execution_count": 3,
   "id": "c52266ec-70d9-486f-ba87-4f863cbd6b72",
   "metadata": {},
   "outputs": [],
   "source": [
    "prices = {\"apple\": 2.99, \"orange\": 1.4, \"milk\": 5.80}"
   ]
  },
  {
   "cell_type": "code",
   "execution_count": 4,
   "id": "9587d406-7027-4e63-ab32-e3bbc146e701",
   "metadata": {},
   "outputs": [
    {
     "data": {
      "text/plain": [
       "{'apple': 2.99, 'orange': 1.4, 'milk': 5.8}"
      ]
     },
     "execution_count": 4,
     "metadata": {},
     "output_type": "execute_result"
    }
   ],
   "source": [
    "prices"
   ]
  },
  {
   "cell_type": "code",
   "execution_count": 5,
   "id": "34d4acd8-e583-46ae-8682-4d7b91638942",
   "metadata": {},
   "outputs": [
    {
     "data": {
      "text/plain": [
       "2.99"
      ]
     },
     "execution_count": 5,
     "metadata": {},
     "output_type": "execute_result"
    }
   ],
   "source": [
    "#extracting value of apple\n",
    "prices['apple']"
   ]
  },
  {
   "cell_type": "code",
   "execution_count": 6,
   "id": "80173a7f-e324-4a75-95bb-4600c6dad28d",
   "metadata": {},
   "outputs": [
    {
     "data": {
      "text/plain": [
       "dict_keys(['apple', 'orange', 'milk'])"
      ]
     },
     "execution_count": 6,
     "metadata": {},
     "output_type": "execute_result"
    }
   ],
   "source": [
    "#extracting keys of prices\n",
    "prices.keys()"
   ]
  },
  {
   "cell_type": "code",
   "execution_count": 7,
   "id": "b215a668-2c34-4136-8f10-5c4da1a8d874",
   "metadata": {},
   "outputs": [
    {
     "data": {
      "text/plain": [
       "dict_values([2.99, 1.4, 5.8])"
      ]
     },
     "execution_count": 7,
     "metadata": {},
     "output_type": "execute_result"
    }
   ],
   "source": [
    "#extracting values of prices\n",
    "prices.values()"
   ]
  },
  {
   "cell_type": "markdown",
   "id": "fa52c145-5edc-45d3-8fbe-ea236d0a3b96",
   "metadata": {},
   "source": [
    "### Practice basic dictionary operations"
   ]
  },
  {
   "cell_type": "code",
   "execution_count": 8,
   "id": "84faeead-f8a2-4ff4-94c9-552efbd35fb8",
   "metadata": {},
   "outputs": [],
   "source": [
    "release_year_dict = {\"Thriller\" : 1992, \"Back in blue\": 1980, \"The Dark side of the moon\": 1973, \"The Bodyguard\": 1992} "
   ]
  },
  {
   "cell_type": "code",
   "execution_count": 9,
   "id": "f61355ab-cf37-4e5e-835b-c8a915d3f797",
   "metadata": {},
   "outputs": [
    {
     "data": {
      "text/plain": [
       "{'Thriller': 1992,\n",
       " 'Back in blue': 1980,\n",
       " 'The Dark side of the moon': 1973,\n",
       " 'The Bodyguard': 1992}"
      ]
     },
     "execution_count": 9,
     "metadata": {},
     "output_type": "execute_result"
    }
   ],
   "source": [
    "release_year_dict"
   ]
  },
  {
   "cell_type": "code",
   "execution_count": 10,
   "id": "aeee1e51-5b9f-4544-93ad-a832f6fb549f",
   "metadata": {},
   "outputs": [
    {
     "data": {
      "text/plain": [
       "dict_keys(['Thriller', 'Back in blue', 'The Dark side of the moon', 'The Bodyguard'])"
      ]
     },
     "execution_count": 10,
     "metadata": {},
     "output_type": "execute_result"
    }
   ],
   "source": [
    "release_year_dict.keys()"
   ]
  },
  {
   "cell_type": "code",
   "execution_count": 11,
   "id": "ad0cf461-1a7b-480d-bd6a-f95724acd902",
   "metadata": {},
   "outputs": [
    {
     "data": {
      "text/plain": [
       "1992"
      ]
     },
     "execution_count": 11,
     "metadata": {},
     "output_type": "execute_result"
    }
   ],
   "source": [
    "release_year_dict[\"Thriller\"]"
   ]
  },
  {
   "cell_type": "code",
   "execution_count": null,
   "id": "b0c07d71-3c5c-4d3d-bfbc-1f4dd4ed4327",
   "metadata": {},
   "outputs": [],
   "source": []
  },
  {
   "cell_type": "code",
   "execution_count": null,
   "id": "ea13f883-ab6b-49b7-a66d-01abb838ea0b",
   "metadata": {},
   "outputs": [],
   "source": []
  }
 ],
 "metadata": {
  "kernelspec": {
   "display_name": "Python 3 (ipykernel)",
   "language": "python",
   "name": "python3"
  },
  "language_info": {
   "codemirror_mode": {
    "name": "ipython",
    "version": 3
   },
   "file_extension": ".py",
   "mimetype": "text/x-python",
   "name": "python",
   "nbconvert_exporter": "python",
   "pygments_lexer": "ipython3",
   "version": "3.11.7"
  }
 },
 "nbformat": 4,
 "nbformat_minor": 5
}
