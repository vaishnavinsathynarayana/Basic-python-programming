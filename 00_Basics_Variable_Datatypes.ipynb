{
 "cells": [
  {
   "cell_type": "markdown",
   "id": "ec64080e-5f37-46e6-9b1c-d053058d7017",
   "metadata": {},
   "source": [
    "# Overview of Python\n",
    "1. Created in 1990 by Guid Van Rossum\n",
    "2. Python was released in 2008\n",
    "3. Specifically designed as an easy to use language\n",
    "5. Highly focuses on readability of code\n",
    "   "
   ]
  },
  {
   "cell_type": "markdown",
   "id": "73bcb647-3201-4e00-82c7-976e38afb88a",
   "metadata": {},
   "source": [
    "# Why choose Python?\n",
    "1. Designed for clear, logical code that is easy to read and learn\n",
    "2. Lots of existing libraries written in Python allows users to choose Python\n",
    "3. Focuses on optimizing developers time rather than computers processing time"
   ]
  },
  {
   "cell_type": "markdown",
   "id": "1fa552f4-008a-41f3-931e-e26d08548ce3",
   "metadata": {},
   "source": [
    "# What is Python used for?\n",
    "<b>1.<b> Automate simple tasks\n",
    "* Searching for files and editing them\n",
    "* Scraping info from websites\n",
    "* Reading and editing Excel files\n",
    "* Work with PDFs\n",
    "* Automate EMAILs,Text messages\n",
    "\n",
    "<b>2.<b>Data Science and Machine Learning\n",
    "* Analyze large data\n",
    "* Create visualization\n",
    "* Perform Machine Learning tasks\n",
    "* Create and run predictive algorithms\n",
    "\n",
    " <b>3.<b>Create Websites\n",
    "* Using Web Frameworks like Flask and Diango\n",
    "* Create interactive dashboards for Users\n",
    "   "
   ]
  },
  {
   "cell_type": "markdown",
   "id": "71ff7cd7-c18e-430b-87c3-7b930b7185f6",
   "metadata": {},
   "source": [
    "## First Python Script"
   ]
  },
  {
   "cell_type": "code",
   "execution_count": 1,
   "id": "32368641-6273-45b9-b671-3fa80f114bad",
   "metadata": {},
   "outputs": [
    {
     "name": "stdout",
     "output_type": "stream",
     "text": [
      "hello\n"
     ]
    }
   ],
   "source": [
    "print(\"hello\")"
   ]
  },
  {
   "cell_type": "code",
   "execution_count": 2,
   "id": "5ff2f05a-fdd3-473e-840f-ef8b21430ab6",
   "metadata": {},
   "outputs": [
    {
     "name": "stdout",
     "output_type": "stream",
     "text": [
      "Hi \n",
      "World\n"
     ]
    }
   ],
   "source": [
    "print(\"Hi \\nWorld\")\n",
    "\n",
    "#new line we use \"\\n\""
   ]
  },
  {
   "cell_type": "code",
   "execution_count": 3,
   "id": "d0ecfebd-c2a6-46c8-9f55-74dbef0492a9",
   "metadata": {},
   "outputs": [
    {
     "name": "stdout",
     "output_type": "stream",
     "text": [
      "Welcome\n"
     ]
    }
   ],
   "source": [
    "print('Welcome')\n",
    "\n",
    "#strings can be enclosed with \" \" or ' '"
   ]
  },
  {
   "cell_type": "markdown",
   "id": "e909e117-174f-46e3-af11-c58c15a6f838",
   "metadata": {},
   "source": [
    "# VARIABLES and DATA TYPES"
   ]
  },
  {
   "cell_type": "markdown",
   "id": "65f3123d-f9bb-47c5-b1fc-67e21d925d52",
   "metadata": {},
   "source": [
    "## Variable Assignment\n",
    "\n",
    "Variable Names\n",
    "* names cannot start with numbers\n",
    "* names cannot contain spaces, use _ instead\n",
    "* names cannot contains symbols\n",
    "* avoid using Python built in keyword"
   ]
  },
  {
   "cell_type": "markdown",
   "id": "6adf123b-f56e-4982-bfed-d2948028c38f",
   "metadata": {},
   "source": [
    "#### NOTE : Python use dynamic typing, ie you can reassign variables to different datatypes"
   ]
  },
  {
   "cell_type": "code",
   "execution_count": 4,
   "id": "8f2f2d67-a22a-40da-83ce-95b67993b419",
   "metadata": {},
   "outputs": [],
   "source": [
    "# variable assignment\n",
    "\n",
    "pet = \"dog\""
   ]
  },
  {
   "cell_type": "code",
   "execution_count": 5,
   "id": "4d71cac8-79b9-437d-a98f-2804343546bf",
   "metadata": {},
   "outputs": [
    {
     "data": {
      "text/plain": [
       "'dog'"
      ]
     },
     "execution_count": 5,
     "metadata": {},
     "output_type": "execute_result"
    }
   ],
   "source": [
    "pet"
   ]
  },
  {
   "cell_type": "code",
   "execution_count": 6,
   "id": "8513ae00-f45b-4fd6-9c24-0547c1557777",
   "metadata": {},
   "outputs": [
    {
     "data": {
      "text/plain": [
       "str"
      ]
     },
     "execution_count": 6,
     "metadata": {},
     "output_type": "execute_result"
    }
   ],
   "source": [
    "# type() is used know the datatype\n",
    "\n",
    "type(pet)"
   ]
  },
  {
   "cell_type": "code",
   "execution_count": 7,
   "id": "a9a1187f-2e07-435c-bd84-1606c16d6bc2",
   "metadata": {},
   "outputs": [],
   "source": [
    "pets = [\"dogs\", \"cats\", \"birds\"]"
   ]
  },
  {
   "cell_type": "code",
   "execution_count": 8,
   "id": "43eef50a-050e-4122-a06e-84aa7b0dc1d9",
   "metadata": {},
   "outputs": [
    {
     "data": {
      "text/plain": [
       "['dogs', 'cats', 'birds']"
      ]
     },
     "execution_count": 8,
     "metadata": {},
     "output_type": "execute_result"
    }
   ],
   "source": [
    "pets"
   ]
  },
  {
   "cell_type": "code",
   "execution_count": 9,
   "id": "64215f79-d436-4daf-ab78-2943038c33a8",
   "metadata": {},
   "outputs": [
    {
     "data": {
      "text/plain": [
       "list"
      ]
     },
     "execution_count": 9,
     "metadata": {},
     "output_type": "execute_result"
    }
   ],
   "source": [
    "type(pets)"
   ]
  },
  {
   "cell_type": "code",
   "execution_count": 10,
   "id": "822c67a5-b288-40c0-949d-71ae22b1eac8",
   "metadata": {},
   "outputs": [],
   "source": [
    "numb = 5"
   ]
  },
  {
   "cell_type": "code",
   "execution_count": 11,
   "id": "1184f1bc-289c-4388-9565-209845872b33",
   "metadata": {},
   "outputs": [
    {
     "data": {
      "text/plain": [
       "5"
      ]
     },
     "execution_count": 11,
     "metadata": {},
     "output_type": "execute_result"
    }
   ],
   "source": [
    "numb"
   ]
  },
  {
   "cell_type": "code",
   "execution_count": 12,
   "id": "e686ffbc-b56c-42f7-a762-393cf27476da",
   "metadata": {},
   "outputs": [
    {
     "data": {
      "text/plain": [
       "int"
      ]
     },
     "execution_count": 12,
     "metadata": {},
     "output_type": "execute_result"
    }
   ],
   "source": [
    "type(numb)"
   ]
  },
  {
   "cell_type": "markdown",
   "id": "fedd5fd4-233e-435f-842f-5773bef7bd38",
   "metadata": {},
   "source": [
    "## User input"
   ]
  },
  {
   "cell_type": "code",
   "execution_count": 13,
   "id": "adb6dd89-09b4-403a-b357-df634e15ba8b",
   "metadata": {},
   "outputs": [
    {
     "name": "stdin",
     "output_type": "stream",
     "text": [
      " 56\n"
     ]
    },
    {
     "name": "stdout",
     "output_type": "stream",
     "text": [
      "56\n"
     ]
    }
   ],
   "source": [
    "x = input()\n",
    "print(x)"
   ]
  },
  {
   "cell_type": "markdown",
   "id": "a56ec67a-5f4d-4642-a761-3017c2d0ed24",
   "metadata": {},
   "source": [
    "## Simple Program: WAP to add two numbers using user inputs"
   ]
  },
  {
   "cell_type": "code",
   "execution_count": 14,
   "id": "381db30d-4526-4c11-9c26-45fb68c03dc0",
   "metadata": {},
   "outputs": [
    {
     "name": "stdin",
     "output_type": "stream",
     "text": [
      "Enter first number 67\n",
      "Enter second number 34\n"
     ]
    },
    {
     "name": "stdout",
     "output_type": "stream",
     "text": [
      "The SUM of two numbers is 101\n"
     ]
    }
   ],
   "source": [
    "a = int(input(\"Enter first number\"))\n",
    "b = int(input(\"Enter second number\"))\n",
    "c = a + b\n",
    "print(\"The SUM of two numbers is\", c)"
   ]
  },
  {
   "cell_type": "code",
   "execution_count": null,
   "id": "d34ff8d2-f2ae-4a7a-9a4b-ae728cc6ead3",
   "metadata": {},
   "outputs": [],
   "source": []
  }
 ],
 "metadata": {
  "kernelspec": {
   "display_name": "Python 3 (ipykernel)",
   "language": "python",
   "name": "python3"
  },
  "language_info": {
   "codemirror_mode": {
    "name": "ipython",
    "version": 3
   },
   "file_extension": ".py",
   "mimetype": "text/x-python",
   "name": "python",
   "nbconvert_exporter": "python",
   "pygments_lexer": "ipython3",
   "version": "3.11.7"
  }
 },
 "nbformat": 4,
 "nbformat_minor": 5
}
