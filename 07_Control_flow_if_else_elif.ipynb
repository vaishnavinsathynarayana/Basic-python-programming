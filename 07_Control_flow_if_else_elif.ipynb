{
 "cells": [
  {
   "cell_type": "markdown",
   "id": "997e7fa3-2e2f-4710-a223-11eb8092e271",
   "metadata": {},
   "source": [
    "# Control flow: if , else, elif"
   ]
  },
  {
   "cell_type": "markdown",
   "id": "56258357-0747-4f03-a801-28554f6f4ac4",
   "metadata": {},
   "source": [
    "1. IFe> Statements in Python allows us to tell the computer to perform alternative actions based on a certain set of resul.\n",
    "2. IFHey if this case hapens, perform some , ion\"\r\n",
    "\r\n",
    "We can then expand the idea furth\"ELIF\"f</co\"ELSE\"e</code> s\n",
    "3. IF\n",
    "\r\n",
    "\"Hey if this case happens, perform somELSEtion. Else, if another case happens, perform some other action.Else if *none* of the above cases happened, perform th    perform action3"
   ]
  },
  {
   "cell_type": "markdown",
   "id": "ab500ad9-8658-476b-bb02-f65889626aad",
   "metadata": {},
   "source": [
    "\n",
    "## Syntax:\n",
    "\n",
    "    if case1:\n",
    "        perform action1\n",
    "    elif case2:\n",
    "        perform action2\n",
    "    else:\n",
    "        perform action3"
   ]
  },
  {
   "cell_type": "code",
   "execution_count": 1,
   "id": "1e7b9409-96d1-4566-9583-6b57a9565854",
   "metadata": {},
   "outputs": [
    {
     "name": "stdout",
     "output_type": "stream",
     "text": [
      "ITS TRUE\n"
     ]
    }
   ],
   "source": [
    "# use if statement\n",
    "\n",
    "if True:\n",
    "    print(\"ITS TRUE\")"
   ]
  },
  {
   "cell_type": "code",
   "execution_count": 2,
   "id": "006a861f-29b3-47fd-ac1e-269658342b3e",
   "metadata": {},
   "outputs": [
    {
     "name": "stdout",
     "output_type": "stream",
     "text": [
      "ITS TRUE\n"
     ]
    }
   ],
   "source": [
    "x = 6\n",
    "if x >5:\n",
    "    print(\"ITS TRUE\")\n",
    "else:\n",
    "    print(\"ITS FALSE\")\n"
   ]
  },
  {
   "cell_type": "code",
   "execution_count": 4,
   "id": "75e5380b-1318-4db6-9f61-3efdbaa2a67f",
   "metadata": {},
   "outputs": [
    {
     "name": "stdout",
     "output_type": "stream",
     "text": [
      "Where are you?\n"
     ]
    }
   ],
   "source": [
    "sigh = \"Hi\"\n",
    "\n",
    "if sigh == \"Bank\":\n",
    "    print(\"Welcome to Bank\")\n",
    "elif sigh == \"Hotel\":\n",
    "    print(\"Welcome to Hotel\")\n",
    "else:\n",
    "    print(\"Where are you?\")"
   ]
  },
  {
   "cell_type": "markdown",
   "id": "bda0d505-c0fd-45cf-828f-36607584d057",
   "metadata": {},
   "source": [
    "### Practice if else and elif statements"
   ]
  },
  {
   "cell_type": "code",
   "execution_count": 2,
   "id": "fac275fb-81b6-45cc-a796-01f4f985cdb2",
   "metadata": {},
   "outputs": [
    {
     "name": "stdout",
     "output_type": "stream",
     "text": [
      "20 is lesser than 22\n"
     ]
    }
   ],
   "source": [
    "a = 20\n",
    "\n",
    "if a > 22:\n",
    "    print(f\"{a} is greater than 22\")\n",
    "elif a < 22:\n",
    "    print(f\"{a} is lesser than 22\")\n",
    "else:\n",
    "    print(f\"{a} is equal to 22\")"
   ]
  },
  {
   "cell_type": "code",
   "execution_count": 5,
   "id": "af1d7437-357d-4549-9ae2-08dc53a0b53a",
   "metadata": {},
   "outputs": [
    {
     "name": "stdout",
     "output_type": "stream",
     "text": [
      "Lily not found\n"
     ]
    }
   ],
   "source": [
    "list_1 = [\"Rose\", \"Daisy\", \"Violet\"]\n",
    "if \"Lily\" in list_1:\n",
    "    print(\"Found Lily\")\n",
    "else:\n",
    "    print(\"Lily not found\")"
   ]
  },
  {
   "cell_type": "code",
   "execution_count": 6,
   "id": "3bbc5630-0667-4c58-9e3b-64862bc93884",
   "metadata": {},
   "outputs": [
    {
     "name": "stdout",
     "output_type": "stream",
     "text": [
      "Found Lily\n"
     ]
    }
   ],
   "source": [
    "list_1 = [\"Rose\", \"Lily\", \"Daisy\", \"Violet\"]\n",
    "if \"Lily\" in list_1:\n",
    "    print(\"Found Lily\")\n",
    "else:\n",
    "    print(\"Lily not found\")"
   ]
  },
  {
   "cell_type": "code",
   "execution_count": 7,
   "id": "2d68fe75-369b-46d0-a4c6-baf93165e976",
   "metadata": {},
   "outputs": [
    {
     "name": "stdin",
     "output_type": "stream",
     "text": [
      "Enter your age to vote? 55\n"
     ]
    },
    {
     "name": "stdout",
     "output_type": "stream",
     "text": [
      "You can vote\n"
     ]
    }
   ],
   "source": [
    "age = int(input(\"Enter your age to vote?\"))\n",
    "if age >= 18:\n",
    "    print(\"You can vote\")\n",
    "else:\n",
    "    print(\"You cant vote\")"
   ]
  },
  {
   "cell_type": "code",
   "execution_count": null,
   "id": "558baceb-4554-4627-8193-7ca30aabc8c3",
   "metadata": {},
   "outputs": [],
   "source": []
  }
 ],
 "metadata": {
  "kernelspec": {
   "display_name": "Python 3 (ipykernel)",
   "language": "python",
   "name": "python3"
  },
  "language_info": {
   "codemirror_mode": {
    "name": "ipython",
    "version": 3
   },
   "file_extension": ".py",
   "mimetype": "text/x-python",
   "name": "python",
   "nbconvert_exporter": "python",
   "pygments_lexer": "ipython3",
   "version": "3.11.7"
  }
 },
 "nbformat": 4,
 "nbformat_minor": 5
}
