{
 "cells": [
  {
   "cell_type": "markdown",
   "id": "15079edb-31ac-4ac3-bebf-e5e69a2e57e5",
   "metadata": {},
   "source": [
    "# Function Practice Exercise"
   ]
  },
  {
   "cell_type": "markdown",
   "id": "75acb36f-0bf0-4e22-b8b8-f82518e64860",
   "metadata": {},
   "source": [
    "### Write a function that returns the lesser of two given numbers if both are even, but returns the greater if one or both numbers are odd"
   ]
  },
  {
   "cell_type": "code",
   "execution_count": 1,
   "id": "41e1934d-896c-482c-8584-4b603c819d9d",
   "metadata": {},
   "outputs": [],
   "source": [
    "def less_greater(num1, num2):\n",
    "    if (num1 % 2 == 0) and ( num2 % 2 == 0):\n",
    "        return min(num1,num2)\n",
    "    else:\n",
    "        return max(num1, num2)"
   ]
  },
  {
   "cell_type": "code",
   "execution_count": 2,
   "id": "946e6bb4-f128-4e0a-bf09-09a9327812dd",
   "metadata": {},
   "outputs": [
    {
     "data": {
      "text/plain": [
       "6"
      ]
     },
     "execution_count": 2,
     "metadata": {},
     "output_type": "execute_result"
    }
   ],
   "source": [
    "less_greater(3, 6)"
   ]
  },
  {
   "cell_type": "code",
   "execution_count": 3,
   "id": "8dd1f51e-3e40-4981-becc-1ce895d836b6",
   "metadata": {},
   "outputs": [
    {
     "data": {
      "text/plain": [
       "2"
      ]
     },
     "execution_count": 3,
     "metadata": {},
     "output_type": "execute_result"
    }
   ],
   "source": [
    "less_greater(2,8)"
   ]
  },
  {
   "cell_type": "markdown",
   "id": "dcdcf0f5-b6d5-4f4b-a8cc-efdbfd101be1",
   "metadata": {},
   "source": [
    "### Write a function takes a two-word string and returns True if both words begin with same letter\n",
    "    str1 ('Live Long') --> True\n",
    "    str2 ('Rose Flower') --> False"
   ]
  },
  {
   "cell_type": "code",
   "execution_count": 15,
   "id": "745d4ba2-5201-4f51-8987-f12c5700ec2a",
   "metadata": {},
   "outputs": [],
   "source": [
    "def stringCatcher(text):\n",
    "    words = text.split()\n",
    "    return words[0][0] == words[1][0]"
   ]
  },
  {
   "cell_type": "code",
   "execution_count": 16,
   "id": "1614b02b-d3c8-4041-8725-ee63974e7016",
   "metadata": {},
   "outputs": [
    {
     "data": {
      "text/plain": [
       "True"
      ]
     },
     "execution_count": 16,
     "metadata": {},
     "output_type": "execute_result"
    }
   ],
   "source": [
    "stringCatcher(' Live Long')"
   ]
  },
  {
   "cell_type": "code",
   "execution_count": 17,
   "id": "c5e17dd5-0fa2-4825-97d4-cf2026def0a0",
   "metadata": {},
   "outputs": [
    {
     "data": {
      "text/plain": [
       "False"
      ]
     },
     "execution_count": 17,
     "metadata": {},
     "output_type": "execute_result"
    }
   ],
   "source": [
    "stringCatcher('Rose Flower')"
   ]
  },
  {
   "cell_type": "markdown",
   "id": "b430d5e4-9980-40d9-bc5d-d1b32ff1fb89",
   "metadata": {},
   "source": [
    "### Write a function: Given two integers, return True if the sum of the integers is 20 *or* if one of the integers is 20. If not, return False\n",
    "\n",
    "    twenty(20,10) --> True\n",
    "    twenty(12,8) --> True\n",
    "    twenty(2,3) --> False"
   ]
  },
  {
   "cell_type": "code",
   "execution_count": 18,
   "id": "1aa60fb1-d855-48f5-b96b-a8c9a0a5a639",
   "metadata": {},
   "outputs": [],
   "source": [
    "def is_twenty(num1, num2):\n",
    "    return (num1 + num2 == 20) or num1 == 20 or num2 == 20"
   ]
  },
  {
   "cell_type": "code",
   "execution_count": 19,
   "id": "94e5c0a0-713d-4190-a480-4c7f5169bd1d",
   "metadata": {},
   "outputs": [
    {
     "data": {
      "text/plain": [
       "True"
      ]
     },
     "execution_count": 19,
     "metadata": {},
     "output_type": "execute_result"
    }
   ],
   "source": [
    "is_twenty(10, 20)"
   ]
  },
  {
   "cell_type": "code",
   "execution_count": 20,
   "id": "61820f6e-ac7f-412d-9951-23bfcab818c1",
   "metadata": {},
   "outputs": [
    {
     "data": {
      "text/plain": [
       "False"
      ]
     },
     "execution_count": 20,
     "metadata": {},
     "output_type": "execute_result"
    }
   ],
   "source": [
    "is_twenty(10, 12)"
   ]
  },
  {
   "cell_type": "code",
   "execution_count": 21,
   "id": "79d51d4a-6e01-4750-9034-f0b53c29a10f",
   "metadata": {},
   "outputs": [
    {
     "data": {
      "text/plain": [
       "True"
      ]
     },
     "execution_count": 21,
     "metadata": {},
     "output_type": "execute_result"
    }
   ],
   "source": [
    "is_twenty(18, 2)"
   ]
  },
  {
   "cell_type": "markdown",
   "id": "df14e979-23a4-4f13-9321-0a7051a3fd19",
   "metadata": {},
   "source": [
    "#### Write a function that capitalizes the first and fourth letters of a name\n",
    "     daisy -->DaiSy"
   ]
  },
  {
   "cell_type": "code",
   "execution_count": 45,
   "id": "3ee9788e-524f-47a9-aa43-4b4df2a7661e",
   "metadata": {},
   "outputs": [],
   "source": [
    "def cap_name(name):\n",
    "    if len(name)>3:\n",
    "        return name[:3].capitalize() + name[3:].capitalize()\n",
    "    else:\n",
    "        return \"Name is too short!\""
   ]
  },
  {
   "cell_type": "code",
   "execution_count": 46,
   "id": "4dfdffcb-fd77-4e25-8ad2-3c1bd074aa85",
   "metadata": {},
   "outputs": [
    {
     "data": {
      "text/plain": [
       "'DaiSy'"
      ]
     },
     "execution_count": 46,
     "metadata": {},
     "output_type": "execute_result"
    }
   ],
   "source": [
    "cap_name(\"daisy\")"
   ]
  },
  {
   "cell_type": "code",
   "execution_count": 48,
   "id": "dff64469-d490-4b76-bdb2-4da50951899d",
   "metadata": {},
   "outputs": [
    {
     "data": {
      "text/plain": [
       "'RosE'"
      ]
     },
     "execution_count": 48,
     "metadata": {},
     "output_type": "execute_result"
    }
   ],
   "source": [
    "cap_name(\"rose\")"
   ]
  },
  {
   "cell_type": "code",
   "execution_count": 49,
   "id": "11b8ab52-2bb1-4a79-aa10-a0e95c649f10",
   "metadata": {},
   "outputs": [
    {
     "data": {
      "text/plain": [
       "'Name is too short!'"
      ]
     },
     "execution_count": 49,
     "metadata": {},
     "output_type": "execute_result"
    }
   ],
   "source": [
    "cap_name(\"eye\")"
   ]
  },
  {
   "cell_type": "markdown",
   "id": "e0e64bc0-2b96-4692-876d-ee50e9c8ef5e",
   "metadata": {},
   "source": [
    "#### Write a function: Given a sentence, return a sentence with the words reversed\n",
    "\n",
    "    rev_words('I am home') --> 'home am I'"
   ]
  },
  {
   "cell_type": "code",
   "execution_count": 61,
   "id": "2ade6992-2c47-44e0-b1e7-193284f51ed7",
   "metadata": {},
   "outputs": [],
   "source": [
    "def rev_words(sentence):\n",
    "    return ' '.join(sentence.split()[::-1])"
   ]
  },
  {
   "cell_type": "code",
   "execution_count": 63,
   "id": "44b1f408-473c-4531-ace8-10a9f38242cc",
   "metadata": {},
   "outputs": [
    {
     "data": {
      "text/plain": [
       "'home am I'"
      ]
     },
     "execution_count": 63,
     "metadata": {},
     "output_type": "execute_result"
    }
   ],
   "source": [
    "rev_words('I am home')"
   ]
  },
  {
   "cell_type": "code",
   "execution_count": 64,
   "id": "8b383e64-eb80-4bea-8933-7d5e1a864b3c",
   "metadata": {},
   "outputs": [
    {
     "data": {
      "text/plain": [
       "'today weather Wonderful'"
      ]
     },
     "execution_count": 64,
     "metadata": {},
     "output_type": "execute_result"
    }
   ],
   "source": [
    "rev_words('Wonderful weather today')"
   ]
  },
  {
   "cell_type": "markdown",
   "id": "ab6f8032-2a56-420d-87f4-bc339b9ffebd",
   "metadata": {},
   "source": [
    "#### Write a function: Given an integer n, return True if n is within 10 of either 100 or 200\n",
    "\n",
    "    either_(90) --> True\n",
    "    either_(150) --> False\n",
    "    either_(205) --> True\n"
   ]
  },
  {
   "cell_type": "code",
   "execution_count": 70,
   "id": "c613115e-75fc-4695-b001-0bfb5caf417a",
   "metadata": {},
   "outputs": [],
   "source": [
    "def either_(num):\n",
    "    return ((abs(100 - num) <=10) or (abs(200 - num) <=10))"
   ]
  },
  {
   "cell_type": "code",
   "execution_count": 71,
   "id": "cb3d40f0-3c15-4a03-aca4-4fe2a8e37261",
   "metadata": {},
   "outputs": [
    {
     "data": {
      "text/plain": [
       "True"
      ]
     },
     "execution_count": 71,
     "metadata": {},
     "output_type": "execute_result"
    }
   ],
   "source": [
    "either_(90)"
   ]
  },
  {
   "cell_type": "code",
   "execution_count": 72,
   "id": "3c967720-79dc-45bd-838e-6f3875eb6f7a",
   "metadata": {},
   "outputs": [
    {
     "data": {
      "text/plain": [
       "False"
      ]
     },
     "execution_count": 72,
     "metadata": {},
     "output_type": "execute_result"
    }
   ],
   "source": [
    "either_(150)"
   ]
  },
  {
   "cell_type": "code",
   "execution_count": 73,
   "id": "6f995043-6fe9-4dfb-877e-2c14363d4f5d",
   "metadata": {},
   "outputs": [
    {
     "data": {
      "text/plain": [
       "True"
      ]
     },
     "execution_count": 73,
     "metadata": {},
     "output_type": "execute_result"
    }
   ],
   "source": [
    "either_(205)"
   ]
  },
  {
   "cell_type": "markdown",
   "id": "0b1a8eaa-c6bd-4c08-a8d9-87596800e1c8",
   "metadata": {},
   "source": [
    "#### Write a function: Given a string, return a string where for every character in the original there are three characters\n",
    "    repeat_str('Hello') --> 'HHHeeellllllooo'"
   ]
  },
  {
   "cell_type": "code",
   "execution_count": 78,
   "id": "da45c3a0-95b7-4704-a506-88549225c235",
   "metadata": {},
   "outputs": [],
   "source": [
    "def repeat_str(text):\n",
    "    result = ' '\n",
    "    for char in text:\n",
    "        result += char * 3\n",
    "    return result"
   ]
  },
  {
   "cell_type": "code",
   "execution_count": 79,
   "id": "6207a111-ac3c-4603-9184-7bbe780a9f58",
   "metadata": {},
   "outputs": [
    {
     "data": {
      "text/plain": [
       "' HHHeeellllllooo'"
      ]
     },
     "execution_count": 79,
     "metadata": {},
     "output_type": "execute_result"
    }
   ],
   "source": [
    "repeat_str(\"Hello\")"
   ]
  },
  {
   "cell_type": "code",
   "execution_count": 80,
   "id": "45566caf-5da1-401b-bcb4-ed41a8757e81",
   "metadata": {},
   "outputs": [
    {
     "data": {
      "text/plain": [
       "' RRRooossseee'"
      ]
     },
     "execution_count": 80,
     "metadata": {},
     "output_type": "execute_result"
    }
   ],
   "source": [
    "repeat_str(\"Rose\")"
   ]
  },
  {
   "cell_type": "markdown",
   "id": "050afe62-e8c8-44df-aee5-dc15e43a0d73",
   "metadata": {},
   "source": [
    "#### Write a function: Given three integers between 1 and 11, if their sum is less than or equal to 21, return their sum. If their sum exceeds 21 *and* there's an eleven, reduce the total sum by 10. Finally, if the sum (even after adjustment) exceeds 21, return 'BUST'\n",
    "    is_bust_or_no(5,6,7) --> 18\n",
    "    is_bust_or_no(9,9,9) --> 'BUST'\n",
    "    is_bust_or_no(9,9,11) --> 19"
   ]
  },
  {
   "cell_type": "code",
   "execution_count": 100,
   "id": "9fecb80b-c928-4bb7-b6f5-a4d00c82db85",
   "metadata": {},
   "outputs": [],
   "source": [
    "def is_bust_or_no(a,b,c): \n",
    "    if sum((a,b,c)) <= 21:\n",
    "        return sum((a,b,c))\n",
    "    elif sum((a,b,c)) >= 21 and  11 in (a,b,c):\n",
    "        return sum((a,b,c)) - 10\n",
    "    else:\n",
    "        return 'BUST'\n"
   ]
  },
  {
   "cell_type": "code",
   "execution_count": 101,
   "id": "25648b64-dc76-49ab-a720-13b7d21add6c",
   "metadata": {},
   "outputs": [
    {
     "data": {
      "text/plain": [
       "'BUST'"
      ]
     },
     "execution_count": 101,
     "metadata": {},
     "output_type": "execute_result"
    }
   ],
   "source": [
    "is_bust_or_no(1,2,99)"
   ]
  },
  {
   "cell_type": "code",
   "execution_count": 102,
   "id": "37549f65-e730-4898-bc5e-313dd5525949",
   "metadata": {},
   "outputs": [
    {
     "data": {
      "text/plain": [
       "44"
      ]
     },
     "execution_count": 102,
     "metadata": {},
     "output_type": "execute_result"
    }
   ],
   "source": [
    "is_bust_or_no(1,42,11)"
   ]
  },
  {
   "cell_type": "code",
   "execution_count": 103,
   "id": "34dd61a9-e863-40f4-91ca-1efb27b7b62a",
   "metadata": {},
   "outputs": [
    {
     "data": {
      "text/plain": [
       "6"
      ]
     },
     "execution_count": 103,
     "metadata": {},
     "output_type": "execute_result"
    }
   ],
   "source": [
    "is_bust_or_no(1,2,3)"
   ]
  },
  {
   "cell_type": "code",
   "execution_count": 109,
   "id": "922fc5a3-417e-479e-82e3-2df400bb39fb",
   "metadata": {},
   "outputs": [],
   "source": [
    "def myfunc(word):\n",
    "    result = \"\"\n",
    "    index = 0\n",
    "    for letter in word:\n",
    "        if index % 2 == 0:\n",
    "            result += letter.lower()\n",
    "        else:\n",
    "            result += letter.upper()\n",
    "        index +=1\n",
    "    return result\n"
   ]
  },
  {
   "cell_type": "code",
   "execution_count": 110,
   "id": "c21af3b7-ecca-4e82-918a-348806161800",
   "metadata": {},
   "outputs": [
    {
     "data": {
      "text/plain": [
       "'aNtHrOpOmOrPhIsM'"
      ]
     },
     "execution_count": 110,
     "metadata": {},
     "output_type": "execute_result"
    }
   ],
   "source": [
    "myfunc(\"Anthropomorphism\")"
   ]
  },
  {
   "cell_type": "code",
   "execution_count": null,
   "id": "d40be7ee-2b18-4ba8-9cc2-00126dd9ee88",
   "metadata": {},
   "outputs": [],
   "source": []
  },
  {
   "cell_type": "code",
   "execution_count": null,
   "id": "66e40dcb-c0c7-4738-9e2c-7d02a649e0db",
   "metadata": {},
   "outputs": [],
   "source": []
  }
 ],
 "metadata": {
  "kernelspec": {
   "display_name": "Python 3 (ipykernel)",
   "language": "python",
   "name": "python3"
  },
  "language_info": {
   "codemirror_mode": {
    "name": "ipython",
    "version": 3
   },
   "file_extension": ".py",
   "mimetype": "text/x-python",
   "name": "python",
   "nbconvert_exporter": "python",
   "pygments_lexer": "ipython3",
   "version": "3.11.7"
  }
 },
 "nbformat": 4,
 "nbformat_minor": 5
}
