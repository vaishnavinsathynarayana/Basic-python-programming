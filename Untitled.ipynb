{
 "cells": [
  {
   "cell_type": "markdown",
   "id": "1eabf7c3-d44d-4170-8469-e053b1bb8080",
   "metadata": {},
   "source": [
    "# SIMPLE PROJECT"
   ]
  },
  {
   "cell_type": "code",
   "execution_count": 3,
   "id": "ac81de1c-17c3-4c5b-aba0-b28d900f9e13",
   "metadata": {},
   "outputs": [],
   "source": [
    "game_list = [0,1,2]"
   ]
  },
  {
   "cell_type": "code",
   "execution_count": 4,
   "id": "937f46b6-9221-4601-8612-35388ca189e8",
   "metadata": {},
   "outputs": [],
   "source": [
    "#display board\n",
    "\n",
    "def display_game(game_list):\n",
    "    print(\"Here is the current list:\")\n",
    "    print(game_list)"
   ]
  },
  {
   "cell_type": "code",
   "execution_count": 5,
   "id": "1f46c63a-0dc7-40c6-97d3-6adac7b0badb",
   "metadata": {},
   "outputs": [
    {
     "name": "stdout",
     "output_type": "stream",
     "text": [
      "Here is the current list:\n",
      "[0, 1, 2]\n"
     ]
    }
   ],
   "source": [
    "display_game(game_list)"
   ]
  },
  {
   "cell_type": "code",
   "execution_count": 7,
   "id": "69504fae-90ad-4b62-a24b-5549a970552e",
   "metadata": {},
   "outputs": [],
   "source": [
    "def position_choice():\n",
    "\n",
    "    #intialize the choice \n",
    "    choice = 'wrong'\n",
    "\n",
    "    while choice not in ['0', '1', '2']:\n",
    "        \n",
    "        choice = input(\"Pick a position (0,1,2): \")\n",
    "        \n",
    "        if choice not in ['0', '1', '2']:\n",
    "            print(\"Sorry, invlaid choice\")\n",
    "\n",
    "    return int(choice)"
   ]
  },
  {
   "cell_type": "code",
   "execution_count": 8,
   "id": "f8c10b52-24e7-4a8f-9670-93f5aacf460f",
   "metadata": {},
   "outputs": [
    {
     "name": "stdin",
     "output_type": "stream",
     "text": [
      "Pick a position (0,1,2):  7\n"
     ]
    },
    {
     "name": "stdout",
     "output_type": "stream",
     "text": [
      "Sorry, invlaid choice\n"
     ]
    },
    {
     "name": "stdin",
     "output_type": "stream",
     "text": [
      "Pick a position (0,1,2):  2\n"
     ]
    },
    {
     "data": {
      "text/plain": [
       "2"
      ]
     },
     "execution_count": 8,
     "metadata": {},
     "output_type": "execute_result"
    }
   ],
   "source": [
    "position_choice()"
   ]
  },
  {
   "cell_type": "code",
   "execution_count": 9,
   "id": "ebfc8438-81c1-4cc7-ac19-c751239e8951",
   "metadata": {},
   "outputs": [],
   "source": [
    "def replacement_pos(game_list,position):\n",
    "\n",
    "    user_replace = input(\"Type the place at position\")\n",
    "\n",
    "    game_list[position] = user_replace\n",
    "\n",
    "    return game_list\n"
   ]
  },
  {
   "cell_type": "code",
   "execution_count": 12,
   "id": "b2ab3461-3a95-427a-a9d2-1ff22108b48a",
   "metadata": {},
   "outputs": [
    {
     "name": "stdin",
     "output_type": "stream",
     "text": [
      "Type the place at position 3\n"
     ]
    },
    {
     "data": {
      "text/plain": [
       "[0, '3', 2]"
      ]
     },
     "execution_count": 12,
     "metadata": {},
     "output_type": "execute_result"
    }
   ],
   "source": [
    "replacement_pos(game_list,1)"
   ]
  },
  {
   "cell_type": "code",
   "execution_count": null,
   "id": "c3b31d6b-ccc4-41d6-b36a-a5d33a91a8fa",
   "metadata": {},
   "outputs": [],
   "source": []
  }
 ],
 "metadata": {
  "kernelspec": {
   "display_name": "Python 3 (ipykernel)",
   "language": "python",
   "name": "python3"
  },
  "language_info": {
   "codemirror_mode": {
    "name": "ipython",
    "version": 3
   },
   "file_extension": ".py",
   "mimetype": "text/x-python",
   "name": "python",
   "nbconvert_exporter": "python",
   "pygments_lexer": "ipython3",
   "version": "3.11.7"
  }
 },
 "nbformat": 4,
 "nbformat_minor": 5
}
