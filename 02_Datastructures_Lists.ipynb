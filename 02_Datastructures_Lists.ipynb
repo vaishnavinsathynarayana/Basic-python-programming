{
 "cells": [
  {
   "cell_type": "markdown",
   "id": "ea61813f-85f3-429b-a286-dfee939ef149",
   "metadata": {},
   "source": [
    "# DATASTRUCTURES in PYTHON"
   ]
  },
  {
   "cell_type": "markdown",
   "id": "50fc7891-75a9-498e-a9cf-2eadcacd0c33",
   "metadata": {},
   "source": [
    "Data structures are a way of organizing and storing data so that they can be accessed and worked with efficiently. They define the relationship between the data, and the operations that can be performed on the data. \n",
    "\n",
    "Primitive Data Structures: \n",
    "1. Integers\n",
    "2. Float\n",
    "3. Strings\n",
    "4. Boolean\n",
    "\n",
    "Non-Primitive Data Structures\n",
    "1. Lists\n",
    "2. Tuples\n",
    "3. Dictionary\n",
    "4. Sets\n"
   ]
  },
  {
   "cell_type": "markdown",
   "id": "a1ca29fd-67cd-4cea-954c-870889ab1913",
   "metadata": {},
   "source": [
    "# LISTS in PYTHON"
   ]
  },
  {
   "cell_type": "markdown",
   "id": "691b1cc8-283d-445f-8562-ec5141139113",
   "metadata": {},
   "source": [
    "1. Lists contains items separated by commas and enclosed with square brackets '[]'\n",
    "2. All items belonging to a list can be of different datatypes\n",
    "3. Lists are similar to arrays [ like in C language ]\n",
    "4. Lists are mutable "
   ]
  },
  {
   "cell_type": "code",
   "execution_count": 1,
   "id": "a1c37d84-9fa3-46bb-bb33-973494ab5d20",
   "metadata": {},
   "outputs": [],
   "source": [
    "# Assign a list to an variable named my_list\n",
    "\n",
    "my_list = [ 1, 2 , 4 ]"
   ]
  },
  {
   "cell_type": "code",
   "execution_count": 2,
   "id": "ba90eeb9-4bff-4c3f-b2b6-b135dbcd62f8",
   "metadata": {},
   "outputs": [
    {
     "data": {
      "text/plain": [
       "[1, 2, 4]"
      ]
     },
     "execution_count": 2,
     "metadata": {},
     "output_type": "execute_result"
    }
   ],
   "source": [
    "my_list"
   ]
  },
  {
   "cell_type": "code",
   "execution_count": 3,
   "id": "876c321e-0320-4feb-89ee-037d868d83e6",
   "metadata": {},
   "outputs": [],
   "source": [
    "my_list = [ \"hi\", 45, True ]"
   ]
  },
  {
   "cell_type": "code",
   "execution_count": 4,
   "id": "36574463-b3be-45fd-8cd5-d0a5d08a936d",
   "metadata": {},
   "outputs": [
    {
     "data": {
      "text/plain": [
       "['hi', 45, True]"
      ]
     },
     "execution_count": 4,
     "metadata": {},
     "output_type": "execute_result"
    }
   ],
   "source": [
    "my_list"
   ]
  },
  {
   "cell_type": "code",
   "execution_count": 5,
   "id": "4c6acd6e-7cbd-4167-baf3-7ab87266558c",
   "metadata": {},
   "outputs": [
    {
     "data": {
      "text/plain": [
       "3"
      ]
     },
     "execution_count": 5,
     "metadata": {},
     "output_type": "execute_result"
    }
   ],
   "source": [
    "# length of list\n",
    "len(my_list)"
   ]
  },
  {
   "cell_type": "code",
   "execution_count": 6,
   "id": "7005202c-fcb1-4ef4-9cf9-3955d5f86661",
   "metadata": {},
   "outputs": [
    {
     "data": {
      "text/plain": [
       "'hi'"
      ]
     },
     "execution_count": 6,
     "metadata": {},
     "output_type": "execute_result"
    }
   ],
   "source": [
    "#indexing of list\n",
    "my_list[0]"
   ]
  },
  {
   "cell_type": "code",
   "execution_count": 7,
   "id": "21c6a71b-b50d-46e1-8773-a51460bfe7a8",
   "metadata": {},
   "outputs": [
    {
     "data": {
      "text/plain": [
       "[45, True]"
      ]
     },
     "execution_count": 7,
     "metadata": {},
     "output_type": "execute_result"
    }
   ],
   "source": [
    "#slicing of list\n",
    "my_list[1::]"
   ]
  },
  {
   "cell_type": "code",
   "execution_count": 8,
   "id": "83cbb1cb-56de-477d-bdd3-34162c2614e7",
   "metadata": {},
   "outputs": [],
   "source": [
    "#using sort method in lists\n",
    "\n",
    "num_list = [1, 8, 3, 4, 2]"
   ]
  },
  {
   "cell_type": "code",
   "execution_count": 9,
   "id": "032a78bf-db8b-4f73-98f4-0155f686a4f7",
   "metadata": {},
   "outputs": [
    {
     "data": {
      "text/plain": [
       "[1, 8, 3, 4, 2]"
      ]
     },
     "execution_count": 9,
     "metadata": {},
     "output_type": "execute_result"
    }
   ],
   "source": [
    "num_list"
   ]
  },
  {
   "cell_type": "code",
   "execution_count": 10,
   "id": "93bd5cec-ad70-49c1-83de-3bdd13d075ee",
   "metadata": {},
   "outputs": [],
   "source": [
    "num_list.sort()"
   ]
  },
  {
   "cell_type": "code",
   "execution_count": 11,
   "id": "4a304103-9922-4c6e-8548-a15cdafe908a",
   "metadata": {},
   "outputs": [
    {
     "data": {
      "text/plain": [
       "[1, 2, 3, 4, 8]"
      ]
     },
     "execution_count": 11,
     "metadata": {},
     "output_type": "execute_result"
    }
   ],
   "source": [
    "num_list"
   ]
  },
  {
   "cell_type": "code",
   "execution_count": 12,
   "id": "1d01abfc-ac06-4a3f-8656-0b1897fef87b",
   "metadata": {},
   "outputs": [],
   "source": [
    "#uisng reverse method in lists\n",
    "\n",
    "num_list = [1, 6, 3, 4, 0]"
   ]
  },
  {
   "cell_type": "code",
   "execution_count": 13,
   "id": "be332632-37e1-4c48-8aab-3414df79be85",
   "metadata": {},
   "outputs": [
    {
     "data": {
      "text/plain": [
       "[1, 6, 3, 4, 0]"
      ]
     },
     "execution_count": 13,
     "metadata": {},
     "output_type": "execute_result"
    }
   ],
   "source": [
    "num_list"
   ]
  },
  {
   "cell_type": "code",
   "execution_count": 14,
   "id": "ccd3b431-3d31-4ff7-a23e-086bd5c05d1f",
   "metadata": {},
   "outputs": [],
   "source": [
    "num_list.reverse()"
   ]
  },
  {
   "cell_type": "code",
   "execution_count": 15,
   "id": "838475e1-734d-4210-8e98-1e880e1bb55d",
   "metadata": {},
   "outputs": [
    {
     "data": {
      "text/plain": [
       "[0, 4, 3, 6, 1]"
      ]
     },
     "execution_count": 15,
     "metadata": {},
     "output_type": "execute_result"
    }
   ],
   "source": [
    "num_list"
   ]
  },
  {
   "cell_type": "code",
   "execution_count": 16,
   "id": "f7ff8c9c-5718-4dec-84cb-f4744ba210b5",
   "metadata": {},
   "outputs": [
    {
     "data": {
      "text/plain": [
       "1"
      ]
     },
     "execution_count": 16,
     "metadata": {},
     "output_type": "execute_result"
    }
   ],
   "source": [
    "#use pop method in lists\n",
    "\n",
    "num_list.pop()"
   ]
  },
  {
   "cell_type": "code",
   "execution_count": 17,
   "id": "8cdc619b-edd3-4891-9ea3-c63e64d4a56e",
   "metadata": {},
   "outputs": [
    {
     "data": {
      "text/plain": [
       "[0, 4, 3, 6]"
      ]
     },
     "execution_count": 17,
     "metadata": {},
     "output_type": "execute_result"
    }
   ],
   "source": [
    "num_list"
   ]
  },
  {
   "cell_type": "code",
   "execution_count": 18,
   "id": "04d51f9f-a472-4acf-abc5-6bae41d7bf79",
   "metadata": {},
   "outputs": [],
   "source": [
    "#use append method in lists\n",
    "\n",
    "num_list.append(8)"
   ]
  },
  {
   "cell_type": "code",
   "execution_count": 19,
   "id": "999e1280-91b9-48d5-ad6d-8bd169320254",
   "metadata": {},
   "outputs": [
    {
     "data": {
      "text/plain": [
       "[0, 4, 3, 6, 8]"
      ]
     },
     "execution_count": 19,
     "metadata": {},
     "output_type": "execute_result"
    }
   ],
   "source": [
    "num_list"
   ]
  },
  {
   "cell_type": "markdown",
   "id": "8b8b8aaa-7906-45fd-a19a-efc96c5bf368",
   "metadata": {},
   "source": [
    "### Some Methods for List \n",
    "1. append\n",
    "2. count\n",
    "3. extend\n",
    "4. insert\n",
    "5. pop\n",
    "6. remove\n",
    "7. reverse\n",
    "8. sort"
   ]
  },
  {
   "cell_type": "markdown",
   "id": "cb34b70d-2ae5-4f94-b626-486f26bc9d14",
   "metadata": {},
   "source": [
    "### Practice basic list operations"
   ]
  },
  {
   "cell_type": "code",
   "execution_count": 20,
   "id": "994d9b85-fb15-413f-bd5e-9739bfca440b",
   "metadata": {},
   "outputs": [],
   "source": [
    "# create list\n",
    "\n",
    "list__ = [ 'abcd', 783.89, 'IFB', 90, 2.56]\n",
    "tiny_list = [ 124, 'ABC']"
   ]
  },
  {
   "cell_type": "code",
   "execution_count": 21,
   "id": "6c1ec85d-6913-494d-981a-c28f4c3d2eac",
   "metadata": {},
   "outputs": [
    {
     "name": "stdout",
     "output_type": "stream",
     "text": [
      "['abcd', 783.89, 'IFB', 90, 2.56]\n"
     ]
    }
   ],
   "source": [
    "print(list__)"
   ]
  },
  {
   "cell_type": "code",
   "execution_count": 22,
   "id": "c6dca19b-3160-40b8-9b6c-edbb5eb7f7d1",
   "metadata": {},
   "outputs": [
    {
     "name": "stdout",
     "output_type": "stream",
     "text": [
      "abcd\n"
     ]
    }
   ],
   "source": [
    "print(list__[0])"
   ]
  },
  {
   "cell_type": "code",
   "execution_count": 23,
   "id": "cb265a16-140b-4dd6-ae31-1f6d8e228fda",
   "metadata": {},
   "outputs": [
    {
     "name": "stdout",
     "output_type": "stream",
     "text": [
      "[783.89, 'IFB', 90]\n"
     ]
    }
   ],
   "source": [
    "print(list__[1:4])"
   ]
  },
  {
   "cell_type": "code",
   "execution_count": 24,
   "id": "063f33e1-d3bb-4a5b-ab82-3e09dc6db5db",
   "metadata": {},
   "outputs": [
    {
     "name": "stdout",
     "output_type": "stream",
     "text": [
      "['IFB', 90, 2.56]\n"
     ]
    }
   ],
   "source": [
    "print(list__[2:])"
   ]
  },
  {
   "cell_type": "code",
   "execution_count": 25,
   "id": "77d8c256-5724-40fd-a454-636b76146e9d",
   "metadata": {},
   "outputs": [
    {
     "name": "stdout",
     "output_type": "stream",
     "text": [
      "['abcd', 783.89, 'IFB', 90, 2.56, 124, 'ABC']\n"
     ]
    }
   ],
   "source": [
    "print(list__ + tiny_list)"
   ]
  },
  {
   "cell_type": "code",
   "execution_count": 26,
   "id": "b26cd1ff-aa17-4361-a491-5a6ab7af91a8",
   "metadata": {},
   "outputs": [
    {
     "name": "stdout",
     "output_type": "stream",
     "text": [
      "[124, 'ABC']\n"
     ]
    }
   ],
   "source": [
    "print(tiny_list)"
   ]
  },
  {
   "cell_type": "code",
   "execution_count": 27,
   "id": "61e33f7d-2f75-4d1c-a3a5-097ce80dd9ee",
   "metadata": {},
   "outputs": [
    {
     "name": "stdout",
     "output_type": "stream",
     "text": [
      "[124, 'ABC', 124, 'ABC']\n"
     ]
    }
   ],
   "source": [
    "print(tiny_list * 2 )"
   ]
  },
  {
   "cell_type": "code",
   "execution_count": 28,
   "id": "f09cb205-85fa-4a28-badc-db3453269e5d",
   "metadata": {},
   "outputs": [],
   "source": [
    "# create a LIST \n",
    "\n",
    "list_a = [\"watermelon\", \"apple\", \"orange\"]"
   ]
  },
  {
   "cell_type": "code",
   "execution_count": 29,
   "id": "f92725ea-9879-47b5-b174-ff129c6eb2a6",
   "metadata": {},
   "outputs": [
    {
     "data": {
      "text/plain": [
       "['watermelon', 'apple', 'orange']"
      ]
     },
     "execution_count": 29,
     "metadata": {},
     "output_type": "execute_result"
    }
   ],
   "source": [
    "#Syntax: list.insert(pos, elmnt)\n",
    "\n",
    "list_a"
   ]
  },
  {
   "cell_type": "code",
   "execution_count": 30,
   "id": "5d499c59-9c09-48ee-a514-3aaed460891d",
   "metadata": {},
   "outputs": [],
   "source": [
    "list_a.insert(0, \"lemon\")"
   ]
  },
  {
   "cell_type": "code",
   "execution_count": 31,
   "id": "207e550b-ed80-44a6-a425-1481c66dc58b",
   "metadata": {},
   "outputs": [
    {
     "data": {
      "text/plain": [
       "['lemon', 'watermelon', 'apple', 'orange']"
      ]
     },
     "execution_count": 31,
     "metadata": {},
     "output_type": "execute_result"
    }
   ],
   "source": [
    "list_a"
   ]
  },
  {
   "cell_type": "code",
   "execution_count": 32,
   "id": "703a51f8-3ec5-45e6-a91a-cec1f8b41727",
   "metadata": {},
   "outputs": [],
   "source": [
    "#Syntax: list.extend([elmt, elmnt, .....])\n",
    "\n",
    "list_a.extend([\"kiwi\", \"chikoo\"])"
   ]
  },
  {
   "cell_type": "code",
   "execution_count": 33,
   "id": "bd4b93c1-300f-40e9-a32d-350b4a430686",
   "metadata": {},
   "outputs": [
    {
     "data": {
      "text/plain": [
       "['lemon', 'watermelon', 'apple', 'orange', 'kiwi', 'chikoo']"
      ]
     },
     "execution_count": 33,
     "metadata": {},
     "output_type": "execute_result"
    }
   ],
   "source": [
    "list_a"
   ]
  },
  {
   "cell_type": "code",
   "execution_count": 34,
   "id": "46b331d9-e110-4612-8961-e24444e16b36",
   "metadata": {},
   "outputs": [
    {
     "data": {
      "text/plain": [
       "2"
      ]
     },
     "execution_count": 34,
     "metadata": {},
     "output_type": "execute_result"
    }
   ],
   "source": [
    "# using index method\n",
    "\n",
    "list_a.index(\"apple\")"
   ]
  },
  {
   "cell_type": "code",
   "execution_count": 35,
   "id": "72d2a9f3-afe7-44da-9e11-830ae035c50f",
   "metadata": {},
   "outputs": [],
   "source": [
    "list_a.remove(\"lemon\")"
   ]
  },
  {
   "cell_type": "code",
   "execution_count": 36,
   "id": "a8113250-dc49-4706-9f44-f20ffa43a15e",
   "metadata": {},
   "outputs": [
    {
     "data": {
      "text/plain": [
       "['watermelon', 'apple', 'orange', 'kiwi', 'chikoo']"
      ]
     },
     "execution_count": 36,
     "metadata": {},
     "output_type": "execute_result"
    }
   ],
   "source": [
    "list_a"
   ]
  },
  {
   "cell_type": "code",
   "execution_count": 37,
   "id": "9e15f2a9-1e83-4828-b67d-e2b2af77e52e",
   "metadata": {},
   "outputs": [
    {
     "data": {
      "text/plain": [
       "'chikoo'"
      ]
     },
     "execution_count": 37,
     "metadata": {},
     "output_type": "execute_result"
    }
   ],
   "source": [
    "list_a.pop()"
   ]
  },
  {
   "cell_type": "code",
   "execution_count": 38,
   "id": "d78ddfa6-f40a-45a1-8291-096cd8edcb60",
   "metadata": {},
   "outputs": [
    {
     "data": {
      "text/plain": [
       "['watermelon', 'apple', 'orange', 'kiwi']"
      ]
     },
     "execution_count": 38,
     "metadata": {},
     "output_type": "execute_result"
    }
   ],
   "source": [
    "list_a"
   ]
  },
  {
   "cell_type": "code",
   "execution_count": 39,
   "id": "c8f2e91e-5c6d-49b5-950a-ab51eb04436a",
   "metadata": {},
   "outputs": [
    {
     "data": {
      "text/plain": [
       "'watermelon'"
      ]
     },
     "execution_count": 39,
     "metadata": {},
     "output_type": "execute_result"
    }
   ],
   "source": [
    "list_a.pop(0)"
   ]
  },
  {
   "cell_type": "code",
   "execution_count": 40,
   "id": "57f2ea44-bbe1-4560-9772-26a959a62f80",
   "metadata": {},
   "outputs": [
    {
     "data": {
      "text/plain": [
       "['apple', 'orange', 'kiwi']"
      ]
     },
     "execution_count": 40,
     "metadata": {},
     "output_type": "execute_result"
    }
   ],
   "source": [
    "list_a"
   ]
  },
  {
   "cell_type": "code",
   "execution_count": 41,
   "id": "3f5702df-4cee-4166-b6dd-91c86743891a",
   "metadata": {},
   "outputs": [],
   "source": [
    "# Practice sorting in Lists\n",
    "\n",
    "numlist = [ 1, 3, 5, 2, 8, 2, 4, 6, 8, 3 ]"
   ]
  },
  {
   "cell_type": "code",
   "execution_count": 42,
   "id": "77c3f212-16b9-4c64-9dde-cd8e14e889ac",
   "metadata": {},
   "outputs": [
    {
     "data": {
      "text/plain": [
       "[1, 3, 5, 2, 8, 2, 4, 6, 8, 3]"
      ]
     },
     "execution_count": 42,
     "metadata": {},
     "output_type": "execute_result"
    }
   ],
   "source": [
    "numlist"
   ]
  },
  {
   "cell_type": "code",
   "execution_count": 43,
   "id": "f870d8bd-4a81-4961-8750-ead47ddbcc26",
   "metadata": {},
   "outputs": [],
   "source": [
    "#sort\n",
    "\n",
    "numlist.sort()"
   ]
  },
  {
   "cell_type": "code",
   "execution_count": 44,
   "id": "35fb493c-246d-4972-82fd-95ac3eefa97c",
   "metadata": {},
   "outputs": [
    {
     "data": {
      "text/plain": [
       "[1, 2, 2, 3, 3, 4, 5, 6, 8, 8]"
      ]
     },
     "execution_count": 44,
     "metadata": {},
     "output_type": "execute_result"
    }
   ],
   "source": [
    "numlist"
   ]
  },
  {
   "cell_type": "code",
   "execution_count": 45,
   "id": "e564f1cd-b25a-4854-be4c-a28cf908c5ba",
   "metadata": {},
   "outputs": [
    {
     "data": {
      "text/plain": [
       "8"
      ]
     },
     "execution_count": 45,
     "metadata": {},
     "output_type": "execute_result"
    }
   ],
   "source": [
    "max(numlist)"
   ]
  },
  {
   "cell_type": "code",
   "execution_count": 46,
   "id": "90d9c171-1813-4646-929f-b0307454a081",
   "metadata": {},
   "outputs": [
    {
     "data": {
      "text/plain": [
       "1"
      ]
     },
     "execution_count": 46,
     "metadata": {},
     "output_type": "execute_result"
    }
   ],
   "source": [
    "min(numlist)"
   ]
  },
  {
   "cell_type": "code",
   "execution_count": null,
   "id": "306402f0-6214-4188-9745-c264d17919ae",
   "metadata": {},
   "outputs": [],
   "source": []
  },
  {
   "cell_type": "code",
   "execution_count": null,
   "id": "18b0dc56-f535-495b-b2fd-e50bb6d79499",
   "metadata": {},
   "outputs": [],
   "source": []
  }
 ],
 "metadata": {
  "kernelspec": {
   "display_name": "Python 3 (ipykernel)",
   "language": "python",
   "name": "python3"
  },
  "language_info": {
   "codemirror_mode": {
    "name": "ipython",
    "version": 3
   },
   "file_extension": ".py",
   "mimetype": "text/x-python",
   "name": "python",
   "nbconvert_exporter": "python",
   "pygments_lexer": "ipython3",
   "version": "3.11.7"
  }
 },
 "nbformat": 4,
 "nbformat_minor": 5
}
