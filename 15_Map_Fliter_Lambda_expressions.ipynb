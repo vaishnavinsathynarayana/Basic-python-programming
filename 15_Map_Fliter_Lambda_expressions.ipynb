{
 "cells": [
  {
   "cell_type": "markdown",
   "id": "3916d9f1-6219-4000-b0b2-b862047d1c0b",
   "metadata": {},
   "source": [
    "# Map_Fliter_Lambda_expressions"
   ]
  },
  {
   "cell_type": "markdown",
   "id": "bfe64fce-d373-485a-b8c2-b177e3b57def",
   "metadata": {},
   "source": [
    "## MAP function\n",
    "This function is used map a function to an iterable object"
   ]
  },
  {
   "cell_type": "code",
   "execution_count": 19,
   "id": "c1ed9e16-f470-4fa8-b2bc-b3538d96c409",
   "metadata": {},
   "outputs": [],
   "source": [
    "def square_numbers(numbers):\n",
    "    return numbers**2"
   ]
  },
  {
   "cell_type": "code",
   "execution_count": 20,
   "id": "ef595c7c-fe74-425c-bce2-f26d6ae50ad6",
   "metadata": {},
   "outputs": [],
   "source": [
    "my_num=[1,2,3,4]"
   ]
  },
  {
   "cell_type": "code",
   "execution_count": 21,
   "id": "f403c9f2-d836-46f4-851c-2695fbda05ae",
   "metadata": {},
   "outputs": [
    {
     "name": "stdout",
     "output_type": "stream",
     "text": [
      "1\n",
      "4\n",
      "9\n",
      "16\n"
     ]
    }
   ],
   "source": [
    "#using map function\n",
    "\n",
    "for item in map(square_numbers, my_num):\n",
    "    print(item)"
   ]
  },
  {
   "cell_type": "code",
   "execution_count": 23,
   "id": "d3935a32-f28b-4c92-8c01-a35f082997c1",
   "metadata": {},
   "outputs": [
    {
     "data": {
      "text/plain": [
       "[1, 4, 9, 16]"
      ]
     },
     "execution_count": 23,
     "metadata": {},
     "output_type": "execute_result"
    }
   ],
   "source": [
    "# simple one\n",
    "\n",
    "list(map(square_numbers, my_num))"
   ]
  },
  {
   "cell_type": "markdown",
   "id": "1d40e5f0-4085-4d1d-a6dd-1e6c68b4ef3b",
   "metadata": {},
   "source": [
    "# FLITER FUNCTION\n",
    " The filter function returns an iterator yielding those items of iterable for which function(item) is true"
   ]
  },
  {
   "cell_type": "code",
   "execution_count": 25,
   "id": "8abcf873-5e7e-475a-876f-bc3a59dbf74a",
   "metadata": {},
   "outputs": [],
   "source": [
    "#check even_odd numbers\n",
    "\n",
    "def even_check(num):\n",
    "    return num%2 == 0"
   ]
  },
  {
   "cell_type": "code",
   "execution_count": 26,
   "id": "69c2a3dd-8f5b-4a9f-9a1d-759f60f17508",
   "metadata": {},
   "outputs": [],
   "source": [
    "mynum = [1,2,3,4,5]"
   ]
  },
  {
   "cell_type": "code",
   "execution_count": 27,
   "id": "ab7c1579-40f6-4205-82ce-8a4f937a1986",
   "metadata": {},
   "outputs": [
    {
     "data": {
      "text/plain": [
       "[2, 4]"
      ]
     },
     "execution_count": 27,
     "metadata": {},
     "output_type": "execute_result"
    }
   ],
   "source": [
    "list(filter(even_check, mynum))"
   ]
  },
  {
   "cell_type": "markdown",
   "id": "f70b1118-f4f9-4214-b4fd-a769297e6ed0",
   "metadata": {},
   "source": [
    "# LAMBDA EXPRESSION\n",
    "A anonymous function with no name and having single step expression"
   ]
  },
  {
   "cell_type": "code",
   "execution_count": 28,
   "id": "4a2e1785-c3df-42ac-8674-d66b7d5fa35a",
   "metadata": {},
   "outputs": [],
   "source": [
    "# square a no\n",
    "\n",
    "def sq_num(num):\n",
    "    return num ** 2"
   ]
  },
  {
   "cell_type": "code",
   "execution_count": 29,
   "id": "e13c62c9-bee6-4388-bb2e-385d7bab957f",
   "metadata": {},
   "outputs": [
    {
     "data": {
      "text/plain": [
       "64"
      ]
     },
     "execution_count": 29,
     "metadata": {},
     "output_type": "execute_result"
    }
   ],
   "source": [
    "sq_num(8)"
   ]
  },
  {
   "cell_type": "code",
   "execution_count": 31,
   "id": "ed9c8c43-0094-4046-ba16-114baf4e55db",
   "metadata": {},
   "outputs": [],
   "source": [
    "#using lambda expression\n",
    "\n",
    "square_num = lambda num : num ** 2"
   ]
  },
  {
   "cell_type": "code",
   "execution_count": 32,
   "id": "73f53709-d78f-47e7-b093-12a293b0a76e",
   "metadata": {},
   "outputs": [
    {
     "data": {
      "text/plain": [
       "64"
      ]
     },
     "execution_count": 32,
     "metadata": {},
     "output_type": "execute_result"
    }
   ],
   "source": [
    "square_num(8)"
   ]
  },
  {
   "cell_type": "code",
   "execution_count": 33,
   "id": "cc9e3f5e-90c5-4abc-a559-6b08372fea21",
   "metadata": {},
   "outputs": [],
   "source": [
    "# adding numbers\n",
    "\n",
    "sum_ = lambda a,b : a + b\n"
   ]
  },
  {
   "cell_type": "code",
   "execution_count": 34,
   "id": "16a2aba2-f790-405d-a22f-c92fa8c57603",
   "metadata": {},
   "outputs": [
    {
     "data": {
      "text/plain": [
       "17"
      ]
     },
     "execution_count": 34,
     "metadata": {},
     "output_type": "execute_result"
    }
   ],
   "source": [
    "sum_(8,9)"
   ]
  },
  {
   "cell_type": "code",
   "execution_count": 36,
   "id": "4c86e240-f2c5-459b-8e7b-f860aafb81c1",
   "metadata": {},
   "outputs": [
    {
     "data": {
      "text/plain": [
       "[1, 4, 9, 16, 25]"
      ]
     },
     "execution_count": 36,
     "metadata": {},
     "output_type": "execute_result"
    }
   ],
   "source": [
    "# use map & lambda expression\n",
    "my_lst = [1,2,3,4,5]\n",
    "list(map(lambda num : num ** 2, my_lst))"
   ]
  },
  {
   "cell_type": "code",
   "execution_count": 38,
   "id": "37475458-d67a-42f3-8179-2d8b2355da8f",
   "metadata": {},
   "outputs": [
    {
     "data": {
      "text/plain": [
       "[2, 4]"
      ]
     },
     "execution_count": 38,
     "metadata": {},
     "output_type": "execute_result"
    }
   ],
   "source": [
    "# use filter & lambda expression\n",
    "\n",
    "my_lst = [1,2,3,4,5]\n",
    "list(filter(lambda num : num%2 == 0, my_lst))"
   ]
  },
  {
   "cell_type": "code",
   "execution_count": null,
   "id": "a789b1a0-1525-48b6-b129-9d021efd0588",
   "metadata": {},
   "outputs": [],
   "source": []
  }
 ],
 "metadata": {
  "kernelspec": {
   "display_name": "Python 3 (ipykernel)",
   "language": "python",
   "name": "python3"
  },
  "language_info": {
   "codemirror_mode": {
    "name": "ipython",
    "version": 3
   },
   "file_extension": ".py",
   "mimetype": "text/x-python",
   "name": "python",
   "nbconvert_exporter": "python",
   "pygments_lexer": "ipython3",
   "version": "3.11.7"
  }
 },
 "nbformat": 4,
 "nbformat_minor": 5
}
