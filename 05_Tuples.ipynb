{
 "cells": [
  {
   "cell_type": "markdown",
   "id": "dd59f0ba-9c0a-48f2-8797-e73ab50f041b",
   "metadata": {},
   "source": [
    "# TUPLES"
   ]
  },
  {
   "cell_type": "markdown",
   "id": "bbc2b0a0-65ec-4fe9-86cc-033fa681189d",
   "metadata": {},
   "source": [
    "1. Different types of data can be stored in Tuples\n",
    "2. Tuples are separated by commas and enclosed with '()'\n",
    "3. Tuples are immutable\n"
   ]
  },
  {
   "cell_type": "code",
   "execution_count": 1,
   "id": "e94abc85-1432-4e15-8173-6010de90530f",
   "metadata": {},
   "outputs": [],
   "source": [
    "# create tuples\n",
    "tup1 = (\"apple\", 12, 78)"
   ]
  },
  {
   "cell_type": "code",
   "execution_count": 2,
   "id": "1590ee38-eb7e-4b89-a613-29b36a43526f",
   "metadata": {},
   "outputs": [
    {
     "data": {
      "text/plain": [
       "('apple', 12, 78)"
      ]
     },
     "execution_count": 2,
     "metadata": {},
     "output_type": "execute_result"
    }
   ],
   "source": [
    "tup1"
   ]
  },
  {
   "cell_type": "code",
   "execution_count": 3,
   "id": "a2b2cded-6ac3-4181-99cf-a51fbfa673c4",
   "metadata": {},
   "outputs": [
    {
     "data": {
      "text/plain": [
       "3"
      ]
     },
     "execution_count": 3,
     "metadata": {},
     "output_type": "execute_result"
    }
   ],
   "source": [
    "#length of tuples\n",
    "len(tup1)"
   ]
  },
  {
   "cell_type": "code",
   "execution_count": 4,
   "id": "952302b8-498f-4f5c-9dc2-bdbcbb2f5c71",
   "metadata": {},
   "outputs": [
    {
     "data": {
      "text/plain": [
       "12"
      ]
     },
     "execution_count": 4,
     "metadata": {},
     "output_type": "execute_result"
    }
   ],
   "source": [
    "#indexing of tuples\n",
    "tup1[1]"
   ]
  },
  {
   "cell_type": "code",
   "execution_count": 5,
   "id": "525c6fec-98db-41bd-8a55-e1175b594960",
   "metadata": {},
   "outputs": [],
   "source": [
    "#conxatenate tuples\n",
    "\n",
    "tup = tup1 + (\"rock\" , 67)"
   ]
  },
  {
   "cell_type": "code",
   "execution_count": 6,
   "id": "e5756db2-e9d7-4381-b57b-b478e37db407",
   "metadata": {},
   "outputs": [
    {
     "data": {
      "text/plain": [
       "('apple', 12, 78, 'rock', 67)"
      ]
     },
     "execution_count": 6,
     "metadata": {},
     "output_type": "execute_result"
    }
   ],
   "source": [
    "tup"
   ]
  },
  {
   "cell_type": "code",
   "execution_count": 7,
   "id": "4bf4b5a3-7216-4ac4-b7d8-abae040f67ed",
   "metadata": {},
   "outputs": [
    {
     "name": "stdout",
     "output_type": "stream",
     "text": [
      "(12, 78, 'rock', 67)\n"
     ]
    }
   ],
   "source": [
    "#slicing\n",
    "print(tup[1:])"
   ]
  },
  {
   "cell_type": "code",
   "execution_count": null,
   "id": "6b8df1bd-1c19-4fff-b7b5-87a696fe88c6",
   "metadata": {},
   "outputs": [],
   "source": []
  },
  {
   "cell_type": "code",
   "execution_count": null,
   "id": "991ae870-f863-4df1-91e3-c7a52eeeb0cc",
   "metadata": {},
   "outputs": [],
   "source": []
  }
 ],
 "metadata": {
  "kernelspec": {
   "display_name": "Python 3 (ipykernel)",
   "language": "python",
   "name": "python3"
  },
  "language_info": {
   "codemirror_mode": {
    "name": "ipython",
    "version": 3
   },
   "file_extension": ".py",
   "mimetype": "text/x-python",
   "name": "python",
   "nbconvert_exporter": "python",
   "pygments_lexer": "ipython3",
   "version": "3.11.7"
  }
 },
 "nbformat": 4,
 "nbformat_minor": 5
}
