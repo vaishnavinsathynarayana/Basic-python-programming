{
 "cells": [
  {
   "cell_type": "markdown",
   "id": "c20a60de-a355-4323-8bff-d324a1826093",
   "metadata": {},
   "source": [
    "# Sets and Booleans"
   ]
  },
  {
   "cell_type": "markdown",
   "id": "77961c60-3578-4de9-bf33-e782621901ad",
   "metadata": {},
   "source": [
    "1. Set are an unordered collection of various items\n",
    "2. Elements in set cannot be duplicate\n",
    "3. Sets has no index and its randomized\n",
    "   "
   ]
  },
  {
   "cell_type": "code",
   "execution_count": 1,
   "id": "f1b64d7e-b6f7-4050-9773-89dc493b5c3e",
   "metadata": {},
   "outputs": [],
   "source": [
    "# create set using function\n",
    "\n",
    "x = set()"
   ]
  },
  {
   "cell_type": "code",
   "execution_count": 2,
   "id": "1d706f1e-ad94-47e1-9e39-b4479c550ef4",
   "metadata": {},
   "outputs": [],
   "source": [
    "x.add(1)"
   ]
  },
  {
   "cell_type": "code",
   "execution_count": 3,
   "id": "47463d66-daef-43f2-aa06-b6e3d86ad404",
   "metadata": {},
   "outputs": [
    {
     "data": {
      "text/plain": [
       "{1}"
      ]
     },
     "execution_count": 3,
     "metadata": {},
     "output_type": "execute_result"
    }
   ],
   "source": [
    "x"
   ]
  },
  {
   "cell_type": "code",
   "execution_count": 4,
   "id": "2716eab1-3dee-4459-b92d-59cec934f0d9",
   "metadata": {},
   "outputs": [],
   "source": [
    "x.add(3)"
   ]
  },
  {
   "cell_type": "code",
   "execution_count": 5,
   "id": "c4f4b684-3042-4a2c-95e3-e0cdab79d92e",
   "metadata": {},
   "outputs": [
    {
     "data": {
      "text/plain": [
       "{1, 3}"
      ]
     },
     "execution_count": 5,
     "metadata": {},
     "output_type": "execute_result"
    }
   ],
   "source": [
    "x"
   ]
  },
  {
   "cell_type": "code",
   "execution_count": 6,
   "id": "d77cf6fb-a7c7-4965-a27b-50d0ce55d859",
   "metadata": {},
   "outputs": [],
   "source": [
    "set1 = {\"rock\", \"paper\", \"scissor\"}"
   ]
  },
  {
   "cell_type": "code",
   "execution_count": 7,
   "id": "e6df5c7c-109f-4e4c-92f0-7a6ae34da4c1",
   "metadata": {},
   "outputs": [
    {
     "data": {
      "text/plain": [
       "{'paper', 'rock', 'scissor'}"
      ]
     },
     "execution_count": 7,
     "metadata": {},
     "output_type": "execute_result"
    }
   ],
   "source": [
    "set1"
   ]
  },
  {
   "cell_type": "code",
   "execution_count": 8,
   "id": "691d0d0b-1647-4aa3-b30d-bfd5e89d39ad",
   "metadata": {},
   "outputs": [],
   "source": [
    "#convert list to set\n",
    "colors = ['blue', 'red', 'yellow']\n"
   ]
  },
  {
   "cell_type": "code",
   "execution_count": 9,
   "id": "de0adc7d-1d29-4d08-9ae8-ee0fa2193833",
   "metadata": {},
   "outputs": [
    {
     "data": {
      "text/plain": [
       "['blue', 'red', 'yellow']"
      ]
     },
     "execution_count": 9,
     "metadata": {},
     "output_type": "execute_result"
    }
   ],
   "source": [
    "colors"
   ]
  },
  {
   "cell_type": "code",
   "execution_count": 10,
   "id": "d3a63e02-1443-436a-886c-43721bc1aeff",
   "metadata": {},
   "outputs": [
    {
     "data": {
      "text/plain": [
       "list"
      ]
     },
     "execution_count": 10,
     "metadata": {},
     "output_type": "execute_result"
    }
   ],
   "source": [
    "type(colors)"
   ]
  },
  {
   "cell_type": "code",
   "execution_count": 11,
   "id": "02b361f4-6e85-48c8-9742-258dbca6712b",
   "metadata": {},
   "outputs": [],
   "source": [
    "#converting list to set\n",
    "y = set(colors)"
   ]
  },
  {
   "cell_type": "code",
   "execution_count": 12,
   "id": "4d90c868-5e4e-4b39-8dfd-afb142c01007",
   "metadata": {},
   "outputs": [
    {
     "data": {
      "text/plain": [
       "{'blue', 'red', 'yellow'}"
      ]
     },
     "execution_count": 12,
     "metadata": {},
     "output_type": "execute_result"
    }
   ],
   "source": [
    "y"
   ]
  },
  {
   "cell_type": "code",
   "execution_count": 13,
   "id": "babbb769-0207-4fae-ad47-b06f2b8aef59",
   "metadata": {},
   "outputs": [
    {
     "data": {
      "text/plain": [
       "set"
      ]
     },
     "execution_count": 13,
     "metadata": {},
     "output_type": "execute_result"
    }
   ],
   "source": [
    "type(y)"
   ]
  },
  {
   "cell_type": "markdown",
   "id": "5c7fae1e-f1db-44d7-a988-0e480beef2e1",
   "metadata": {},
   "source": [
    "## Booleans"
   ]
  },
  {
   "cell_type": "markdown",
   "id": "b651b906-7b2a-4efd-aca2-9985c4914706",
   "metadata": {},
   "source": [
    "Booleans are pre defined True and False displays that are basically just the intergers 1 and 0"
   ]
  },
  {
   "cell_type": "code",
   "execution_count": 14,
   "id": "42b4a2af-309c-484b-842f-114d31d15a4e",
   "metadata": {},
   "outputs": [],
   "source": [
    "# set ab object to be boolean\n",
    "\n",
    "a = True"
   ]
  },
  {
   "cell_type": "code",
   "execution_count": 15,
   "id": "9584fb1d-6cb8-4c1e-9fd2-1f270ea278ca",
   "metadata": {},
   "outputs": [
    {
     "data": {
      "text/plain": [
       "True"
      ]
     },
     "execution_count": 15,
     "metadata": {},
     "output_type": "execute_result"
    }
   ],
   "source": [
    "a"
   ]
  },
  {
   "cell_type": "code",
   "execution_count": 16,
   "id": "3e49be8e-b181-435a-a815-ed3fa461fb46",
   "metadata": {},
   "outputs": [
    {
     "data": {
      "text/plain": [
       "False"
      ]
     },
     "execution_count": 16,
     "metadata": {},
     "output_type": "execute_result"
    }
   ],
   "source": [
    "1>2"
   ]
  },
  {
   "cell_type": "code",
   "execution_count": 17,
   "id": "9105efaf-5f6c-4d73-b7cf-5ab458a6a2ce",
   "metadata": {},
   "outputs": [
    {
     "data": {
      "text/plain": [
       "bool"
      ]
     },
     "execution_count": 17,
     "metadata": {},
     "output_type": "execute_result"
    }
   ],
   "source": [
    "type(True)"
   ]
  },
  {
   "cell_type": "code",
   "execution_count": 18,
   "id": "de7db3e8-c050-42e8-82c4-4b013fadc74c",
   "metadata": {},
   "outputs": [
    {
     "data": {
      "text/plain": [
       "bool"
      ]
     },
     "execution_count": 18,
     "metadata": {},
     "output_type": "execute_result"
    }
   ],
   "source": [
    "type(False)"
   ]
  },
  {
   "cell_type": "markdown",
   "id": "8bf50e6a-f24b-4dc7-ba9a-4263a64ef507",
   "metadata": {},
   "source": [
    "### Practice basic SET operations"
   ]
  },
  {
   "cell_type": "code",
   "execution_count": 19,
   "id": "7156500e-14cb-42d2-84ac-271c595fb20c",
   "metadata": {},
   "outputs": [],
   "source": [
    "num = {1, 3, 5, 7, 8, 2, 4, 6, 1, 9}"
   ]
  },
  {
   "cell_type": "code",
   "execution_count": 20,
   "id": "69e5127c-6373-49dc-b4e8-b9da23453923",
   "metadata": {},
   "outputs": [
    {
     "data": {
      "text/plain": [
       "set"
      ]
     },
     "execution_count": 20,
     "metadata": {},
     "output_type": "execute_result"
    }
   ],
   "source": [
    "type(num)"
   ]
  },
  {
   "cell_type": "code",
   "execution_count": 21,
   "id": "e0043bed-c2ca-40b3-8c7d-63464fca8af7",
   "metadata": {},
   "outputs": [
    {
     "data": {
      "text/plain": [
       "{1, 2, 3, 4, 5, 6, 7, 8, 9}"
      ]
     },
     "execution_count": 21,
     "metadata": {},
     "output_type": "execute_result"
    }
   ],
   "source": [
    "num"
   ]
  },
  {
   "cell_type": "code",
   "execution_count": 22,
   "id": "d0db0e95-43d1-4965-8687-fc33cdf53715",
   "metadata": {},
   "outputs": [
    {
     "data": {
      "text/plain": [
       "9"
      ]
     },
     "execution_count": 22,
     "metadata": {},
     "output_type": "execute_result"
    }
   ],
   "source": [
    "len(num)"
   ]
  },
  {
   "cell_type": "code",
   "execution_count": 23,
   "id": "69437237-8752-472c-8b5e-8e9e6bb9e06d",
   "metadata": {},
   "outputs": [
    {
     "data": {
      "text/plain": [
       "9"
      ]
     },
     "execution_count": 23,
     "metadata": {},
     "output_type": "execute_result"
    }
   ],
   "source": [
    "max(num)"
   ]
  },
  {
   "cell_type": "code",
   "execution_count": 24,
   "id": "11ed4083-dbef-47c7-8b1d-ceaa91f1a987",
   "metadata": {},
   "outputs": [
    {
     "data": {
      "text/plain": [
       "1"
      ]
     },
     "execution_count": 24,
     "metadata": {},
     "output_type": "execute_result"
    }
   ],
   "source": [
    "min(num)"
   ]
  },
  {
   "cell_type": "code",
   "execution_count": 25,
   "id": "5e226044-fc61-49f9-b28f-566a7b0ba915",
   "metadata": {},
   "outputs": [
    {
     "data": {
      "text/plain": [
       "45"
      ]
     },
     "execution_count": 25,
     "metadata": {},
     "output_type": "execute_result"
    }
   ],
   "source": [
    "sum(num)"
   ]
  },
  {
   "cell_type": "code",
   "execution_count": 26,
   "id": "09b3d5b1-7f76-4164-8055-1879ab5d1da3",
   "metadata": {},
   "outputs": [
    {
     "name": "stdout",
     "output_type": "stream",
     "text": [
      "{8, 2, 4}\n"
     ]
    }
   ],
   "source": [
    "# Intersection of two sets\n",
    "\n",
    "a = {1, 4, 3, 6, 2, 8}\n",
    "b = {2, 5, 4, 8, 4}\n",
    "print(a & b)"
   ]
  },
  {
   "cell_type": "code",
   "execution_count": 27,
   "id": "68ab511c-2c8f-4e9a-a6d6-6e0d7c96c9b9",
   "metadata": {},
   "outputs": [
    {
     "name": "stdout",
     "output_type": "stream",
     "text": [
      "{1, 2, 3, 4, 5, 6, 8}\n"
     ]
    }
   ],
   "source": [
    "# Union of two sets\n",
    "\n",
    "a = {1, 4, 3, 6, 2, 8}\n",
    "b = {2, 5, 4, 8, 4}\n",
    "print(a | b)"
   ]
  },
  {
   "cell_type": "code",
   "execution_count": 28,
   "id": "d4f22c1f-411b-4c88-9796-08ea2d96ed8c",
   "metadata": {},
   "outputs": [],
   "source": [
    "a.add(5)"
   ]
  },
  {
   "cell_type": "code",
   "execution_count": 29,
   "id": "1b348b3f-5102-4377-9b3a-06a809dca7cb",
   "metadata": {},
   "outputs": [
    {
     "data": {
      "text/plain": [
       "{1, 2, 3, 4, 5, 6, 8}"
      ]
     },
     "execution_count": 29,
     "metadata": {},
     "output_type": "execute_result"
    }
   ],
   "source": [
    "a"
   ]
  },
  {
   "cell_type": "code",
   "execution_count": null,
   "id": "cc80e1ff-be12-4629-9abe-83478e700921",
   "metadata": {},
   "outputs": [],
   "source": []
  },
  {
   "cell_type": "code",
   "execution_count": null,
   "id": "be13d324-c601-4fac-86af-0d4d19d4fd1f",
   "metadata": {},
   "outputs": [],
   "source": []
  }
 ],
 "metadata": {
  "kernelspec": {
   "display_name": "Python 3 (ipykernel)",
   "language": "python",
   "name": "python3"
  },
  "language_info": {
   "codemirror_mode": {
    "name": "ipython",
    "version": 3
   },
   "file_extension": ".py",
   "mimetype": "text/x-python",
   "name": "python",
   "nbconvert_exporter": "python",
   "pygments_lexer": "ipython3",
   "version": "3.11.7"
  }
 },
 "nbformat": 4,
 "nbformat_minor": 5
}
