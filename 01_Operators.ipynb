{
 "cells": [
  {
   "cell_type": "markdown",
   "id": "c69f8339-c84a-4286-b009-68c25683a187",
   "metadata": {},
   "source": [
    "# BASIC OPERATORS in Python"
   ]
  },
  {
   "cell_type": "markdown",
   "id": "3d304071-574c-4fc6-b9c2-5915064d5cec",
   "metadata": {},
   "source": [
    "# Arithmetic Operators\n",
    " # + - * / % // **"
   ]
  },
  {
   "cell_type": "code",
   "execution_count": 1,
   "id": "7be28ff9-c2d7-4941-9df9-4252e6339b98",
   "metadata": {},
   "outputs": [
    {
     "data": {
      "text/plain": [
       "3"
      ]
     },
     "execution_count": 1,
     "metadata": {},
     "output_type": "execute_result"
    }
   ],
   "source": [
    "# Addition\n",
    "2+1"
   ]
  },
  {
   "cell_type": "code",
   "execution_count": 2,
   "id": "fe5688a1-324d-405f-9fd5-2f3a619ca48a",
   "metadata": {},
   "outputs": [
    {
     "data": {
      "text/plain": [
       "2"
      ]
     },
     "execution_count": 2,
     "metadata": {},
     "output_type": "execute_result"
    }
   ],
   "source": [
    "#subtarcation\n",
    "4 -2"
   ]
  },
  {
   "cell_type": "code",
   "execution_count": 3,
   "id": "b88b5fc5-6ecf-4251-a44a-e3a88155f1d3",
   "metadata": {},
   "outputs": [
    {
     "data": {
      "text/plain": [
       "21"
      ]
     },
     "execution_count": 3,
     "metadata": {},
     "output_type": "execute_result"
    }
   ],
   "source": [
    "#multiplication\n",
    "3 * 7"
   ]
  },
  {
   "cell_type": "code",
   "execution_count": 4,
   "id": "12775970-4712-4bac-8baa-881c20610545",
   "metadata": {},
   "outputs": [
    {
     "data": {
      "text/plain": [
       "2.0"
      ]
     },
     "execution_count": 4,
     "metadata": {},
     "output_type": "execute_result"
    }
   ],
   "source": [
    "#Division\n",
    "4/2"
   ]
  },
  {
   "cell_type": "code",
   "execution_count": 5,
   "id": "86d1c0e3-e138-4cd6-a0d0-839350728f3a",
   "metadata": {},
   "outputs": [
    {
     "data": {
      "text/plain": [
       "1"
      ]
     },
     "execution_count": 5,
     "metadata": {},
     "output_type": "execute_result"
    }
   ],
   "source": [
    "#Floor division\n",
    "7//4"
   ]
  },
  {
   "cell_type": "code",
   "execution_count": 6,
   "id": "d28f68ab-d5ee-4d98-a644-079a8ff47119",
   "metadata": {},
   "outputs": [
    {
     "data": {
      "text/plain": [
       "1"
      ]
     },
     "execution_count": 6,
     "metadata": {},
     "output_type": "execute_result"
    }
   ],
   "source": [
    "#modulo\n",
    "5 % 2"
   ]
  },
  {
   "cell_type": "code",
   "execution_count": 7,
   "id": "a54d84ad-e8ec-4225-bba5-256a57978aef",
   "metadata": {},
   "outputs": [
    {
     "data": {
      "text/plain": [
       "16"
      ]
     },
     "execution_count": 7,
     "metadata": {},
     "output_type": "execute_result"
    }
   ],
   "source": [
    "# powers\n",
    "4 ** 2"
   ]
  },
  {
   "cell_type": "markdown",
   "id": "be5cad3e-61e5-4f37-bedc-d518c47db506",
   "metadata": {},
   "source": [
    "# Relational / Comparison Operators\n",
    "# <,>, >=, <=, ==, +="
   ]
  },
  {
   "cell_type": "code",
   "execution_count": 8,
   "id": "09409e76-3fb5-40ae-b23d-72c3ab91f214",
   "metadata": {},
   "outputs": [
    {
     "data": {
      "text/plain": [
       "True"
      ]
     },
     "execution_count": 8,
     "metadata": {},
     "output_type": "execute_result"
    }
   ],
   "source": [
    "# \" == \" if the value of two operands are equal, then the condition becomes True\n",
    "\n",
    "2 == 2"
   ]
  },
  {
   "cell_type": "code",
   "execution_count": 9,
   "id": "be09e6fd-4ff5-4d3b-9398-0250321886e0",
   "metadata": {},
   "outputs": [
    {
     "data": {
      "text/plain": [
       "False"
      ]
     },
     "execution_count": 9,
     "metadata": {},
     "output_type": "execute_result"
    }
   ],
   "source": [
    "2 == 9"
   ]
  },
  {
   "cell_type": "code",
   "execution_count": 10,
   "id": "a9a812a1-3363-42dc-99e0-a3da4f90dc06",
   "metadata": {},
   "outputs": [
    {
     "data": {
      "text/plain": [
       "False"
      ]
     },
     "execution_count": 10,
     "metadata": {},
     "output_type": "execute_result"
    }
   ],
   "source": [
    "\"Hi\" == \"Hello\""
   ]
  },
  {
   "cell_type": "code",
   "execution_count": 11,
   "id": "7d2641d5-ba26-4a2c-b921-060ac84c3530",
   "metadata": {},
   "outputs": [
    {
     "data": {
      "text/plain": [
       "True"
      ]
     },
     "execution_count": 11,
     "metadata": {},
     "output_type": "execute_result"
    }
   ],
   "source": [
    "# != # if the value of two operands are not equal, then the condition becomes True\n",
    "\n",
    "2 != 6"
   ]
  },
  {
   "cell_type": "code",
   "execution_count": 12,
   "id": "a1a44f4c-6255-40b6-bd1f-deb232e72a36",
   "metadata": {},
   "outputs": [
    {
     "data": {
      "text/plain": [
       "False"
      ]
     },
     "execution_count": 12,
     "metadata": {},
     "output_type": "execute_result"
    }
   ],
   "source": [
    "2 != 2"
   ]
  },
  {
   "cell_type": "code",
   "execution_count": 13,
   "id": "06b4eea6-621b-42d9-a68f-246464c481b3",
   "metadata": {},
   "outputs": [
    {
     "data": {
      "text/plain": [
       "True"
      ]
     },
     "execution_count": 13,
     "metadata": {},
     "output_type": "execute_result"
    }
   ],
   "source": [
    "# \" >= \" if the value of the left operand is greater than or equal to the value of right operand, then the condition becomes True\n",
    "\n",
    "7 >= 3"
   ]
  },
  {
   "cell_type": "code",
   "execution_count": 14,
   "id": "eb6c1447-eaef-4b8e-802d-575a9ea9768c",
   "metadata": {},
   "outputs": [
    {
     "data": {
      "text/plain": [
       "True"
      ]
     },
     "execution_count": 14,
     "metadata": {},
     "output_type": "execute_result"
    }
   ],
   "source": [
    "2 >= 0"
   ]
  },
  {
   "cell_type": "code",
   "execution_count": 15,
   "id": "a428b783-8512-4d5b-9c8c-cf7add204bae",
   "metadata": {},
   "outputs": [
    {
     "data": {
      "text/plain": [
       "False"
      ]
     },
     "execution_count": 15,
     "metadata": {},
     "output_type": "execute_result"
    }
   ],
   "source": [
    "3 >= 9"
   ]
  },
  {
   "cell_type": "code",
   "execution_count": 16,
   "id": "a77588b7-5cc7-4416-95e7-edb434367de6",
   "metadata": {},
   "outputs": [
    {
     "data": {
      "text/plain": [
       "True"
      ]
     },
     "execution_count": 16,
     "metadata": {},
     "output_type": "execute_result"
    }
   ],
   "source": [
    "# \" <= \" if the value of the left operand is lesser than or equal to the value of right operand, then the condition becomes True\n",
    "\n",
    "4 <= 9"
   ]
  },
  {
   "cell_type": "code",
   "execution_count": 17,
   "id": "f4324f91-f119-4ee4-a43b-f13e42d9e48c",
   "metadata": {},
   "outputs": [
    {
     "data": {
      "text/plain": [
       "True"
      ]
     },
     "execution_count": 17,
     "metadata": {},
     "output_type": "execute_result"
    }
   ],
   "source": [
    "9 <= 10"
   ]
  },
  {
   "cell_type": "code",
   "execution_count": 18,
   "id": "f97680ed-a3f2-4827-a82b-164251cd0a6c",
   "metadata": {},
   "outputs": [
    {
     "data": {
      "text/plain": [
       "False"
      ]
     },
     "execution_count": 18,
     "metadata": {},
     "output_type": "execute_result"
    }
   ],
   "source": [
    "18 <= 14"
   ]
  },
  {
   "cell_type": "code",
   "execution_count": 19,
   "id": "5ad1481c-85c4-45d2-b6bd-75b611a390ce",
   "metadata": {},
   "outputs": [
    {
     "data": {
      "text/plain": [
       "True"
      ]
     },
     "execution_count": 19,
     "metadata": {},
     "output_type": "execute_result"
    }
   ],
   "source": [
    "# \" > \" if the value of the left operand is greater than the value of right operand, then the condition becomes True\n",
    "\n",
    "3 > 2"
   ]
  },
  {
   "cell_type": "code",
   "execution_count": 20,
   "id": "f46de9ed-a15a-4a5c-9789-d798f218e6b5",
   "metadata": {},
   "outputs": [
    {
     "data": {
      "text/plain": [
       "False"
      ]
     },
     "execution_count": 20,
     "metadata": {},
     "output_type": "execute_result"
    }
   ],
   "source": [
    "5 > 9"
   ]
  },
  {
   "cell_type": "code",
   "execution_count": 21,
   "id": "e99d7c82-c779-485c-97b5-2505970e9884",
   "metadata": {},
   "outputs": [
    {
     "data": {
      "text/plain": [
       "True"
      ]
     },
     "execution_count": 21,
     "metadata": {},
     "output_type": "execute_result"
    }
   ],
   "source": [
    "# \" < \" if the value of the left operand is lesser than the value of right operand, then the condition becomes True\n",
    "10 < 17"
   ]
  },
  {
   "cell_type": "code",
   "execution_count": 22,
   "id": "a0ad8234-946e-4270-bbfd-f1ce96aa7673",
   "metadata": {},
   "outputs": [
    {
     "data": {
      "text/plain": [
       "False"
      ]
     },
     "execution_count": 22,
     "metadata": {},
     "output_type": "execute_result"
    }
   ],
   "source": [
    "11 < 3"
   ]
  },
  {
   "cell_type": "markdown",
   "id": "d53fbda1-8909-494e-8996-7cc1cee4e493",
   "metadata": {},
   "source": [
    "# Logical Operators"
   ]
  },
  {
   "cell_type": "markdown",
   "id": "0ec1e58a-5566-4012-a0ad-1f3348be72d0",
   "metadata": {},
   "source": [
    "\"AND\" Returns the logical AND gate operation of x and y boolean values.\n"
   ]
  },
  {
   "cell_type": "code",
   "execution_count": 23,
   "id": "abca9db5-4b75-4b50-bd79-4ca648a5819e",
   "metadata": {},
   "outputs": [],
   "source": [
    "x = 7\n",
    "y = 9"
   ]
  },
  {
   "cell_type": "code",
   "execution_count": 24,
   "id": "adb08597-2fbc-4372-8262-1bd7bab9efd0",
   "metadata": {},
   "outputs": [
    {
     "data": {
      "text/plain": [
       "True"
      ]
     },
     "execution_count": 24,
     "metadata": {},
     "output_type": "execute_result"
    }
   ],
   "source": [
    "result = ( x > 0) and ( y > 0 )\n",
    "result"
   ]
  },
  {
   "cell_type": "code",
   "execution_count": 25,
   "id": "7f5f09f1-ec6b-4afa-bdce-62ebf3528d2c",
   "metadata": {},
   "outputs": [
    {
     "data": {
      "text/plain": [
       "False"
      ]
     },
     "execution_count": 25,
     "metadata": {},
     "output_type": "execute_result"
    }
   ],
   "source": [
    "result = ( x < 0) and ( y < 0 )\n",
    "result"
   ]
  },
  {
   "cell_type": "markdown",
   "id": "3e3174d1-c09f-44d7-8727-ebcdfc7e9988",
   "metadata": {},
   "source": [
    "\"OR\" Returns the logical AND gate operation of x and y boolean values.\n"
   ]
  },
  {
   "cell_type": "code",
   "execution_count": 26,
   "id": "349bbc87-9720-4d19-8438-90e82882284c",
   "metadata": {},
   "outputs": [],
   "source": [
    "a = 5\n",
    "b = 8"
   ]
  },
  {
   "cell_type": "code",
   "execution_count": 27,
   "id": "ab6fea78-9069-4b6a-b419-df198c141492",
   "metadata": {},
   "outputs": [
    {
     "data": {
      "text/plain": [
       "True"
      ]
     },
     "execution_count": 27,
     "metadata": {},
     "output_type": "execute_result"
    }
   ],
   "source": [
    "result = ( a > 0) or ( b > 0 )\n",
    "result"
   ]
  },
  {
   "cell_type": "code",
   "execution_count": 28,
   "id": "0a60e56b-5bed-40ab-a6d6-657acab20146",
   "metadata": {},
   "outputs": [
    {
     "data": {
      "text/plain": [
       "False"
      ]
     },
     "execution_count": 28,
     "metadata": {},
     "output_type": "execute_result"
    }
   ],
   "source": [
    "result = ( a < 0) or ( b < 0 )\n",
    "result"
   ]
  },
  {
   "cell_type": "markdown",
   "id": "a29366e3-e1b3-4e63-b69c-475d9a7d1f94",
   "metadata": {},
   "source": [
    "\"NOT\" Returns the logical NOT gate operation of x boolean value.\n"
   ]
  },
  {
   "cell_type": "code",
   "execution_count": 29,
   "id": "95327749-1be7-4225-a2cf-753d537039b4",
   "metadata": {},
   "outputs": [],
   "source": [
    "z = 7"
   ]
  },
  {
   "cell_type": "code",
   "execution_count": 30,
   "id": "6101c227-01b6-40d7-a455-b18af6914ba4",
   "metadata": {},
   "outputs": [
    {
     "data": {
      "text/plain": [
       "True"
      ]
     },
     "execution_count": 30,
     "metadata": {},
     "output_type": "execute_result"
    }
   ],
   "source": [
    "z > 0"
   ]
  },
  {
   "cell_type": "code",
   "execution_count": 31,
   "id": "91866988-2278-4df3-877b-20d1cacf06be",
   "metadata": {},
   "outputs": [
    {
     "data": {
      "text/plain": [
       "False"
      ]
     },
     "execution_count": 31,
     "metadata": {},
     "output_type": "execute_result"
    }
   ],
   "source": [
    "result = not (z > 0)\n",
    "result"
   ]
  },
  {
   "cell_type": "code",
   "execution_count": null,
   "id": "87ae864a-11e8-413b-9a16-46f401de027a",
   "metadata": {},
   "outputs": [],
   "source": []
  },
  {
   "cell_type": "code",
   "execution_count": null,
   "id": "d77d096d-272a-4178-bf7d-f801461f6400",
   "metadata": {},
   "outputs": [],
   "source": []
  }
 ],
 "metadata": {
  "kernelspec": {
   "display_name": "Python 3 (ipykernel)",
   "language": "python",
   "name": "python3"
  },
  "language_info": {
   "codemirror_mode": {
    "name": "ipython",
    "version": 3
   },
   "file_extension": ".py",
   "mimetype": "text/x-python",
   "name": "python",
   "nbconvert_exporter": "python",
   "pygments_lexer": "ipython3",
   "version": "3.11.7"
  }
 },
 "nbformat": 4,
 "nbformat_minor": 5
}
