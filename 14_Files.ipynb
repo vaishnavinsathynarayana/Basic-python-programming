{
 "cells": [
  {
   "cell_type": "markdown",
   "id": "dcb08ba9-7024-4714-959c-e719041ecda2",
   "metadata": {},
   "source": [
    "# FILES"
   ]
  },
  {
   "cell_type": "markdown",
   "id": "634d80a6-ff27-4e77-9857-c1438ed95d00",
   "metadata": {},
   "source": [
    "1. Python uses file objects to interact with external files on your computer.\n",
    "2. Python has built-in open functions that allows us to open and play with basic file types.\n",
    "3. File objects can be any sort of file on your computer, whether it be an audio file, a text file, emails, Excel documents, etc.\n",
    "\n",
    "Note: You will probably need to install certain libraries or modules to interact with those various file types, but they are easily available. \n"
   ]
  },
  {
   "cell_type": "code",
   "execution_count": 25,
   "id": "05bb6d54-1d71-4123-924e-095e7f496042",
   "metadata": {},
   "outputs": [],
   "source": [
    "# Opening a text file\n",
    "\n",
    "my_file = open('test.txt')"
   ]
  },
  {
   "cell_type": "code",
   "execution_count": 26,
   "id": "5a551d41-edf0-4411-9ced-233b90c0fc38",
   "metadata": {},
   "outputs": [
    {
     "data": {
      "text/plain": [
       "'Python is easy readable programming lang'"
      ]
     },
     "execution_count": 26,
     "metadata": {},
     "output_type": "execute_result"
    }
   ],
   "source": [
    "# read the file\n",
    "\n",
    "my_file.read()"
   ]
  },
  {
   "cell_type": "code",
   "execution_count": 27,
   "id": "add830cf-4a2c-4a89-a2ba-47274fb5f461",
   "metadata": {},
   "outputs": [
    {
     "data": {
      "text/plain": [
       "''"
      ]
     },
     "execution_count": 27,
     "metadata": {},
     "output_type": "execute_result"
    }
   ],
   "source": [
    "# what happens if we try to read it again?\n",
    "my_file.read()"
   ]
  },
  {
   "cell_type": "code",
   "execution_count": 28,
   "id": "23562d92-0ab4-4906-a219-9e97abae42b8",
   "metadata": {},
   "outputs": [
    {
     "data": {
      "text/plain": [
       "0"
      ]
     },
     "execution_count": 28,
     "metadata": {},
     "output_type": "execute_result"
    }
   ],
   "source": [
    "# Seek to the start of file (index 0)\n",
    "my_file.seek(0)"
   ]
  },
  {
   "cell_type": "code",
   "execution_count": 29,
   "id": "4598058c-aae1-45b2-b17e-e07139f94320",
   "metadata": {},
   "outputs": [
    {
     "data": {
      "text/plain": [
       "'Python is easy readable programming lang'"
      ]
     },
     "execution_count": 29,
     "metadata": {},
     "output_type": "execute_result"
    }
   ],
   "source": [
    "# Now read again\n",
    "my_file.read()"
   ]
  },
  {
   "cell_type": "code",
   "execution_count": 30,
   "id": "95627609-ed39-4ce3-8eaa-2ac76611eb64",
   "metadata": {},
   "outputs": [
    {
     "data": {
      "text/plain": [
       "['Python is easy readable programming lang']"
      ]
     },
     "execution_count": 30,
     "metadata": {},
     "output_type": "execute_result"
    }
   ],
   "source": [
    "# Readlines returns a list of the lines in the file\n",
    "my_file.seek(0)\n",
    "my_file.readlines()"
   ]
  },
  {
   "cell_type": "code",
   "execution_count": 31,
   "id": "1e76961d-d089-4755-b211-6ffdde72abaa",
   "metadata": {},
   "outputs": [],
   "source": [
    "# When you have finished using a file, it is always good practice to close it.\n",
    "\n",
    "my_file.close()"
   ]
  },
  {
   "cell_type": "code",
   "execution_count": 36,
   "id": "0fa86fdd-5ec4-4867-a785-ba9733eb4265",
   "metadata": {},
   "outputs": [],
   "source": [
    "# Write in the file\n",
    "# Passing 'w+' lets us read and write to the file\n",
    "\n",
    "my_file = open('test.txt','w+')"
   ]
  },
  {
   "cell_type": "code",
   "execution_count": 37,
   "id": "c434751e-faf7-407a-9bea-6069ea727cae",
   "metadata": {},
   "outputs": [
    {
     "data": {
      "text/plain": [
       "32"
      ]
     },
     "execution_count": 37,
     "metadata": {},
     "output_type": "execute_result"
    }
   ],
   "source": [
    "my_file.write(\"Python is a programming language\")"
   ]
  },
  {
   "cell_type": "code",
   "execution_count": 38,
   "id": "e1a0672e-c1f1-48a4-8e68-38e08e26dd88",
   "metadata": {},
   "outputs": [
    {
     "data": {
      "text/plain": [
       "['Python is a programming language']"
      ]
     },
     "execution_count": 38,
     "metadata": {},
     "output_type": "execute_result"
    }
   ],
   "source": [
    "# Read the file\n",
    "\n",
    "my_file.seek(0)\n",
    "my_file.readlines()"
   ]
  },
  {
   "cell_type": "code",
   "execution_count": 39,
   "id": "5f5c749c-a84c-48ba-af72-3786ba83c931",
   "metadata": {},
   "outputs": [],
   "source": [
    "my_file.close()"
   ]
  },
  {
   "cell_type": "markdown",
   "id": "5238ac3f-c55c-400c-8b8a-96595f83e170",
   "metadata": {},
   "source": [
    "## Appending to a File\n",
    "Passing the argument `'a'` opens the file and puts the pointer at the end, so anything written is appended."
   ]
  },
  {
   "cell_type": "code",
   "execution_count": 48,
   "id": "e4ed9a92-5f43-4b0c-85cb-646a633afe47",
   "metadata": {},
   "outputs": [
    {
     "data": {
      "text/plain": [
       "23"
      ]
     },
     "execution_count": 48,
     "metadata": {},
     "output_type": "execute_result"
    }
   ],
   "source": [
    "my_file = open('test.txt','a+')\n",
    "my_file.write('\\nThis is text being appended to test.txt')\n",
    "my_file.write('\\nAnd another line here.')"
   ]
  },
  {
   "cell_type": "code",
   "execution_count": 49,
   "id": "f8bc500d-ed16-4755-9b27-5d17e0a6519a",
   "metadata": {},
   "outputs": [
    {
     "data": {
      "text/plain": [
       "'Python is a programming language\\n\\nThis is text being appended to test.txt\\nAnd another line here.'"
      ]
     },
     "execution_count": 49,
     "metadata": {},
     "output_type": "execute_result"
    }
   ],
   "source": [
    "my_file.seek(0)\n",
    "my_file.read()"
   ]
  },
  {
   "cell_type": "code",
   "execution_count": 50,
   "id": "f0d3b0a6-6abd-43a6-bd63-b5d2f24a6f2f",
   "metadata": {},
   "outputs": [
    {
     "name": "stdout",
     "output_type": "stream",
     "text": [
      "Python is a programming language\n",
      "\n",
      "This is text being appended to test.txt\n",
      "And another line here.\n"
     ]
    }
   ],
   "source": [
    "my_file.seek(0)\n",
    "print(my_file.read())"
   ]
  },
  {
   "cell_type": "code",
   "execution_count": 51,
   "id": "6121f1ac-9378-40e7-9162-3ccb6f774b23",
   "metadata": {},
   "outputs": [],
   "source": [
    "my_file.close()"
   ]
  },
  {
   "cell_type": "code",
   "execution_count": null,
   "id": "997cf15d-680c-47c0-b0e3-f90b5a21db85",
   "metadata": {},
   "outputs": [],
   "source": []
  }
 ],
 "metadata": {
  "kernelspec": {
   "display_name": "Python 3 (ipykernel)",
   "language": "python",
   "name": "python3"
  },
  "language_info": {
   "codemirror_mode": {
    "name": "ipython",
    "version": 3
   },
   "file_extension": ".py",
   "mimetype": "text/x-python",
   "name": "python",
   "nbconvert_exporter": "python",
   "pygments_lexer": "ipython3",
   "version": "3.11.7"
  }
 },
 "nbformat": 4,
 "nbformat_minor": 5
}
