{
 "cells": [
  {
   "cell_type": "markdown",
   "id": "5d9577e6-01f3-4854-b289-ad8637ececec",
   "metadata": {},
   "source": [
    "# FUNCTIONS"
   ]
  },
  {
   "cell_type": "markdown",
   "id": "1bbdd750-2a85-415d-a748-ec1708e16c04",
   "metadata": {},
   "source": [
    "1. Functions is a set of instructions that is used to perform a simple related operations\n",
    "2. Functions are organised, re-usable, modularized\n",
    "3. Functions will alow you to call the same block of code without having to write it multiple times"
   ]
  },
  {
   "cell_type": "markdown",
   "id": "5505b285-123c-47a0-9263-3c98d1709705",
   "metadata": {},
   "source": [
    "### User defined functions Syntax:"
   ]
  },
  {
   "cell_type": "markdown",
   "id": "e146f26a-98e1-4203-ae9d-ef69edf22b85",
   "metadata": {},
   "source": [
    "def name_of_function(parameter1, parameter2, ...): \n",
    "    statement 1\n",
    "    statement 2\n",
    "    return(expression)"
   ]
  },
  {
   "cell_type": "code",
   "execution_count": 3,
   "id": "4e5eeafd-025c-462f-bb62-482dffe180a5",
   "metadata": {},
   "outputs": [],
   "source": [
    "# Defining the function\n",
    "\n",
    "def say_hello():\n",
    "    print(\"hello\")\n",
    "    print(\"how are you?\")"
   ]
  },
  {
   "cell_type": "code",
   "execution_count": 4,
   "id": "8852587b-753f-4b6c-a20f-f6886125b166",
   "metadata": {},
   "outputs": [
    {
     "name": "stdout",
     "output_type": "stream",
     "text": [
      "hello\n",
      "how are you?\n"
     ]
    }
   ],
   "source": [
    "# calling the function\n",
    "\n",
    "say_hello()"
   ]
  },
  {
   "cell_type": "code",
   "execution_count": 8,
   "id": "e2a27950-8def-42ee-a337-4a562ede35b9",
   "metadata": {},
   "outputs": [],
   "source": [
    "## Accepting parameters in functions\n",
    "\n",
    "def greet(name):\n",
    "    print(f\"Hello {name}\")"
   ]
  },
  {
   "cell_type": "code",
   "execution_count": 9,
   "id": "57f423dc-df00-4144-a136-10feb05627cb",
   "metadata": {},
   "outputs": [
    {
     "name": "stdout",
     "output_type": "stream",
     "text": [
      "Hello John\n"
     ]
    }
   ],
   "source": [
    "greet(\"John\")"
   ]
  },
  {
   "cell_type": "markdown",
   "id": "e9d259c3-fb50-474c-aec4-b9d80e792765",
   "metadata": {},
   "source": [
    "### Return \n",
    "\n",
    "This allows the function to return a result that can be stored as a variable or used in whatever manner a user wants"
   ]
  },
  {
   "cell_type": "code",
   "execution_count": 10,
   "id": "81457518-b89d-424d-8aad-8e6b4601a7d9",
   "metadata": {},
   "outputs": [],
   "source": [
    "# ADD two numbers\n",
    "\n",
    "def add_two_nums(num1, num2):\n",
    "    return num1 + num2 \n"
   ]
  },
  {
   "cell_type": "code",
   "execution_count": 11,
   "id": "e4e4cc4e-cb65-4a36-bd4e-bc70b4929876",
   "metadata": {},
   "outputs": [
    {
     "data": {
      "text/plain": [
       "30"
      ]
     },
     "execution_count": 11,
     "metadata": {},
     "output_type": "execute_result"
    }
   ],
   "source": [
    "add_two_nums(20, 10)"
   ]
  },
  {
   "cell_type": "markdown",
   "id": "bb90b120-2be5-499b-84eb-af8be74efd88",
   "metadata": {},
   "source": [
    "## Practice simple function programs"
   ]
  },
  {
   "cell_type": "code",
   "execution_count": 12,
   "id": "ccf59f19-0df2-4604-be2d-85cf580201d5",
   "metadata": {},
   "outputs": [],
   "source": [
    "# check whether the number is even or not\n",
    "\n",
    "def even_check(num):\n",
    "    return num % 2 == 0"
   ]
  },
  {
   "cell_type": "code",
   "execution_count": 13,
   "id": "40b73775-f418-4142-a9e1-f6045e50e82e",
   "metadata": {},
   "outputs": [
    {
     "data": {
      "text/plain": [
       "True"
      ]
     },
     "execution_count": 13,
     "metadata": {},
     "output_type": "execute_result"
    }
   ],
   "source": [
    "even_check(10)"
   ]
  },
  {
   "cell_type": "code",
   "execution_count": 20,
   "id": "ef50c76b-65b9-41cf-8c8b-841c25398fd5",
   "metadata": {},
   "outputs": [],
   "source": [
    "# check whether the list is having even number\n",
    "\n",
    "def even_check_list(num_list):\n",
    "    for num in num_list:\n",
    "        if num % 2 == 0:\n",
    "            return True\n",
    "        else: \n",
    "            pass\n",
    "    return False"
   ]
  },
  {
   "cell_type": "code",
   "execution_count": 21,
   "id": "9796ef47-4fbf-4ece-81ae-740dea920ba0",
   "metadata": {},
   "outputs": [
    {
     "data": {
      "text/plain": [
       "True"
      ]
     },
     "execution_count": 21,
     "metadata": {},
     "output_type": "execute_result"
    }
   ],
   "source": [
    "even_check_list([1, 2, 4, 3, 3,7, 8])"
   ]
  },
  {
   "cell_type": "code",
   "execution_count": 23,
   "id": "801301f3-fd21-43e8-b996-3601c53635ee",
   "metadata": {},
   "outputs": [
    {
     "data": {
      "text/plain": [
       "False"
      ]
     },
     "execution_count": 23,
     "metadata": {},
     "output_type": "execute_result"
    }
   ],
   "source": [
    "even_check_list([1, 3, 3,7, 5])"
   ]
  },
  {
   "cell_type": "code",
   "execution_count": 32,
   "id": "47a05efe-ada0-4ce2-a4c5-d6a4d8ac69bd",
   "metadata": {},
   "outputs": [],
   "source": [
    "# check whether the number is even or odd number\n",
    "\n",
    "def even_odd(num):\n",
    "    if num % 2 == 0:\n",
    "        print(f\"{num} is even number\")\n",
    "    else:\n",
    "        print(f\"{num} is odd number\")\n",
    "           "
   ]
  },
  {
   "cell_type": "code",
   "execution_count": 33,
   "id": "4ca06a79-b73c-4b69-8db8-d024375286f2",
   "metadata": {},
   "outputs": [
    {
     "name": "stdout",
     "output_type": "stream",
     "text": [
      "8 is even number\n"
     ]
    }
   ],
   "source": [
    "even_odd(8)"
   ]
  },
  {
   "cell_type": "code",
   "execution_count": 34,
   "id": "35f5e3d8-7a89-4bce-b309-877ccc28bfae",
   "metadata": {},
   "outputs": [
    {
     "name": "stdout",
     "output_type": "stream",
     "text": [
      "17 is odd number\n"
     ]
    }
   ],
   "source": [
    "even_odd(17)"
   ]
  },
  {
   "cell_type": "code",
   "execution_count": 35,
   "id": "292caaf0-6964-48d6-b3da-a3ff3caaa5a3",
   "metadata": {},
   "outputs": [],
   "source": [
    "def printMax(a, b):\n",
    "    if a>b:\n",
    "        print(f\"{a} is max\")\n",
    "    elif a == b:\n",
    "        print(f\"{a} and {b} are equal\")\n",
    "    else:\n",
    "        print(f\"{b} is max\")"
   ]
  },
  {
   "cell_type": "code",
   "execution_count": 36,
   "id": "a8898979-77ba-4c33-8a4d-4573482e4e66",
   "metadata": {},
   "outputs": [
    {
     "name": "stdout",
     "output_type": "stream",
     "text": [
      "9 is max\n"
     ]
    }
   ],
   "source": [
    "printMax(4, 9)"
   ]
  },
  {
   "cell_type": "code",
   "execution_count": 37,
   "id": "7ff92d46-ec11-4515-aca2-b3dcfd5c0396",
   "metadata": {},
   "outputs": [
    {
     "name": "stdout",
     "output_type": "stream",
     "text": [
      "2 and 2 are equal\n"
     ]
    }
   ],
   "source": [
    "printMax(2,2)"
   ]
  },
  {
   "cell_type": "code",
   "execution_count": 39,
   "id": "984d2991-ea17-4b9a-8ef7-af55f79c6add",
   "metadata": {},
   "outputs": [
    {
     "name": "stdout",
     "output_type": "stream",
     "text": [
      "6 is max\n"
     ]
    }
   ],
   "source": [
    "printMax(6,3)"
   ]
  },
  {
   "cell_type": "code",
   "execution_count": null,
   "id": "86819a92-d649-49cc-9a1e-532ad78a7b10",
   "metadata": {},
   "outputs": [],
   "source": []
  }
 ],
 "metadata": {
  "kernelspec": {
   "display_name": "Python 3 (ipykernel)",
   "language": "python",
   "name": "python3"
  },
  "language_info": {
   "codemirror_mode": {
    "name": "ipython",
    "version": 3
   },
   "file_extension": ".py",
   "mimetype": "text/x-python",
   "name": "python",
   "nbconvert_exporter": "python",
   "pygments_lexer": "ipython3",
   "version": "3.11.7"
  }
 },
 "nbformat": 4,
 "nbformat_minor": 5
}
