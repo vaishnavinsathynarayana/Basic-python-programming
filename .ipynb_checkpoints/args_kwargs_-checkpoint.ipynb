{
 "cells": [
  {
   "cell_type": "markdown",
   "id": "16cc06b5-d678-4381-8f37-10bf857c46e7",
   "metadata": {},
   "source": [
    "# *args and **kwargs"
   ]
  },
  {
   "cell_type": "markdown",
   "id": "fad43eb8-f27c-4350-8827-e6bdf4868a1b",
   "metadata": {},
   "source": [
    "### *args and **kwargs are parameters in Python function definition"
   ]
  },
  {
   "cell_type": "code",
   "execution_count": 1,
   "id": "43b57430-cb36-4a00-b99d-fbcb8116cf2f",
   "metadata": {},
   "outputs": [],
   "source": [
    "#normal function\n",
    "\n",
    "def myfunc(a,b):\n",
    "    # return 5% of sum of a, b\n",
    "    return sum((a,b))*0.05"
   ]
  },
  {
   "cell_type": "code",
   "execution_count": 3,
   "id": "20100309-b514-48b8-84a2-857b1a27bae4",
   "metadata": {},
   "outputs": [
    {
     "data": {
      "text/plain": [
       "4.5"
      ]
     },
     "execution_count": 3,
     "metadata": {},
     "output_type": "execute_result"
    }
   ],
   "source": [
    "myfunc(30,60)"
   ]
  },
  {
   "cell_type": "code",
   "execution_count": 4,
   "id": "bad6e81a-deac-43da-8675-50dc9722de9c",
   "metadata": {},
   "outputs": [],
   "source": [
    "#normal function\n",
    "\n",
    "def myfunc(a,b,c=0, d=0):\n",
    "    # return 5% of sum of a, b\n",
    "    return sum((a,b,c,d))*0.05"
   ]
  },
  {
   "cell_type": "code",
   "execution_count": 5,
   "id": "5a3477f0-bdec-4904-87ad-04edf5c676ca",
   "metadata": {},
   "outputs": [
    {
     "data": {
      "text/plain": [
       "3.4000000000000004"
      ]
     },
     "execution_count": 5,
     "metadata": {},
     "output_type": "execute_result"
    }
   ],
   "source": [
    "myfunc(12, 24, 15, 17)"
   ]
  },
  {
   "cell_type": "markdown",
   "id": "6b924310-5b13-490f-ab23-cba82331c328",
   "metadata": {},
   "source": [
    "#### using *args - its allows for an arbitary numbers of arguments and the functions takes them in as a tuple of values\n",
    "\n"
   ]
  },
  {
   "cell_type": "code",
   "execution_count": 6,
   "id": "676dcb32-c171-4a1d-af67-da17ff8ae239",
   "metadata": {},
   "outputs": [],
   "source": [
    "def my_func(*args):\n",
    "    print(args)"
   ]
  },
  {
   "cell_type": "code",
   "execution_count": 7,
   "id": "103f6720-be20-41df-8ed9-6dc844454208",
   "metadata": {},
   "outputs": [
    {
     "name": "stdout",
     "output_type": "stream",
     "text": [
      "(1, 23, 45, 78)\n"
     ]
    }
   ],
   "source": [
    "myfunc(1,23,45, 78)"
   ]
  },
  {
   "cell_type": "code",
   "execution_count": 11,
   "id": "9e502c03-1137-43b2-b20b-7c19ef422ce7",
   "metadata": {},
   "outputs": [],
   "source": [
    "def arb(*args):\n",
    "    for i in args:\n",
    "        print(i)"
   ]
  },
  {
   "cell_type": "code",
   "execution_count": 12,
   "id": "238e9a5f-50d7-4f66-9213-5bcb71235c7e",
   "metadata": {},
   "outputs": [
    {
     "name": "stdout",
     "output_type": "stream",
     "text": [
      "12\n",
      "34\n",
      "56\n",
      "23\n",
      "78\n",
      "90\n"
     ]
    }
   ],
   "source": [
    "arb(12, 34, 56, 23, 78, 90)"
   ]
  },
  {
   "cell_type": "code",
   "execution_count": null,
   "id": "ee3ad12a-a763-4577-8b36-920fdd0de7a4",
   "metadata": {},
   "outputs": [],
   "source": []
  }
 ],
 "metadata": {
  "kernelspec": {
   "display_name": "Python 3 (ipykernel)",
   "language": "python",
   "name": "python3"
  },
  "language_info": {
   "codemirror_mode": {
    "name": "ipython",
    "version": 3
   },
   "file_extension": ".py",
   "mimetype": "text/x-python",
   "name": "python",
   "nbconvert_exporter": "python",
   "pygments_lexer": "ipython3",
   "version": "3.11.7"
  }
 },
 "nbformat": 4,
 "nbformat_minor": 5
}
