{
 "cells": [
  {
   "cell_type": "markdown",
   "id": "1eabf7c3-d44d-4170-8469-e053b1bb8080",
   "metadata": {},
   "source": [
    "# SIMPLE PROJECT"
   ]
  },
  {
   "cell_type": "code",
   "execution_count": null,
   "id": "ac81de1c-17c3-4c5b-aba0-b28d900f9e13",
   "metadata": {},
   "outputs": [],
   "source": [
    "def position_choice():\n",
    "\n",
    "    #This original choice value can be anything that isn't an integer\n",
    "    choice = 'wrong'\n",
    "    within_range = False\n",
    "\n",
    "    while choice.isdigit() == False or within_range == False:\n",
    "        choice = input(\"Please enter the number (0-10)\")\n",
    "\n",
    "        if choice.isdigit() == False:\n",
    "            print(\"Sorry its not a digit\")\n",
    "\n",
    "        if choice.isdigit() == True:\n",
    "            if int(choice) in range(0,10):\n",
    "                within_range = True\n",
    "            else:\n",
    "                within_range = False\n",
    "\n",
    "\n",
    "        "
   ]
  }
 ],
 "metadata": {
  "kernelspec": {
   "display_name": "Python 3 (ipykernel)",
   "language": "python",
   "name": "python3"
  },
  "language_info": {
   "codemirror_mode": {
    "name": "ipython",
    "version": 3
   },
   "file_extension": ".py",
   "mimetype": "text/x-python",
   "name": "python",
   "nbconvert_exporter": "python",
   "pygments_lexer": "ipython3",
   "version": "3.11.7"
  }
 },
 "nbformat": 4,
 "nbformat_minor": 5
}
