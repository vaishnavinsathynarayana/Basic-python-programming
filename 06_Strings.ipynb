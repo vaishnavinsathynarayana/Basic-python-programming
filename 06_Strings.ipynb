{
 "cells": [
  {
   "cell_type": "markdown",
   "id": "5cdab33f-18f8-4afe-b07c-35d4378ad080",
   "metadata": {},
   "source": [
    "# STRINGS"
   ]
  },
  {
   "cell_type": "markdown",
   "id": "03c61a8a-f227-4418-a135-a0ef5ebb4963",
   "metadata": {},
   "source": [
    "1. Built_in \"string_class\", named \"str\" with many handy features\n",
    "2. Subsets of strings can be taken using slice operator ( '[]' and \"[:]\") with indexes starting at 0 in the begining of the string and working their way from -1 at the end\n",
    "3. String concatenation is performed using \"+\" sign\n",
    "4. Strings are immutable\n",
    "5. Concatenation of strings and integers throws ERROR\n",
    "\n"
   ]
  },
  {
   "cell_type": "code",
   "execution_count": 1,
   "id": "0f9d8eff-dc5e-421f-9204-30b90801ee71",
   "metadata": {},
   "outputs": [
    {
     "data": {
      "text/plain": [
       "'hello'"
      ]
     },
     "execution_count": 1,
     "metadata": {},
     "output_type": "execute_result"
    }
   ],
   "source": [
    "#create a string\n",
    "\n",
    "\"hello\""
   ]
  },
  {
   "cell_type": "code",
   "execution_count": 3,
   "id": "8df14f82-43f1-450c-b3a8-8143b899e221",
   "metadata": {},
   "outputs": [
    {
     "data": {
      "text/plain": [
       "5"
      ]
     },
     "execution_count": 3,
     "metadata": {},
     "output_type": "execute_result"
    }
   ],
   "source": [
    "#length of string\n",
    "\n",
    "len(\"hello\")\n"
   ]
  },
  {
   "cell_type": "code",
   "execution_count": 6,
   "id": "398cf19a-1083-4471-9fe0-13cbad5ecd6e",
   "metadata": {},
   "outputs": [
    {
     "name": "stdout",
     "output_type": "stream",
     "text": [
      "Taylor Swift\n",
      "S\n"
     ]
    }
   ],
   "source": [
    "#indexing of strings\n",
    "\n",
    "Name = \"Taylor Swift\"\n",
    "print(Name)\n",
    "print(Name[7])"
   ]
  },
  {
   "cell_type": "code",
   "execution_count": 8,
   "id": "cdde6efc-64b3-49ee-997c-db4595d36dc1",
   "metadata": {},
   "outputs": [
    {
     "data": {
      "text/plain": [
       "'Tl i'"
      ]
     },
     "execution_count": 8,
     "metadata": {},
     "output_type": "execute_result"
    }
   ],
   "source": [
    "Name[::3]"
   ]
  },
  {
   "cell_type": "code",
   "execution_count": 11,
   "id": "90996f1c-8f9e-4669-ad63-929fa1df432a",
   "metadata": {},
   "outputs": [
    {
     "data": {
      "text/plain": [
       "'aylor Swift'"
      ]
     },
     "execution_count": 11,
     "metadata": {},
     "output_type": "execute_result"
    }
   ],
   "source": [
    "Name[1:]"
   ]
  },
  {
   "cell_type": "code",
   "execution_count": 13,
   "id": "63b44c20-3b06-4964-b5f4-9828b08887dc",
   "metadata": {},
   "outputs": [
    {
     "data": {
      "text/plain": [
       "'Taylor SwiftTaylor Swift'"
      ]
     },
     "execution_count": 13,
     "metadata": {},
     "output_type": "execute_result"
    }
   ],
   "source": [
    "#multiply strings\n",
    "Name * 2"
   ]
  },
  {
   "cell_type": "code",
   "execution_count": 18,
   "id": "9fe95cb8-c465-46be-ada6-9724883441e1",
   "metadata": {},
   "outputs": [],
   "source": [
    "# Upper case\n",
    "A = Name.upper()"
   ]
  },
  {
   "cell_type": "code",
   "execution_count": 19,
   "id": "1d9f7c08-7da5-490f-bcf8-d4e882630bd6",
   "metadata": {},
   "outputs": [
    {
     "data": {
      "text/plain": [
       "'TAYLOR SWIFT'"
      ]
     },
     "execution_count": 19,
     "metadata": {},
     "output_type": "execute_result"
    }
   ],
   "source": [
    "A"
   ]
  },
  {
   "cell_type": "code",
   "execution_count": 20,
   "id": "1eb8db1b-0305-40bc-9ad6-04f77db0f48b",
   "metadata": {},
   "outputs": [],
   "source": [
    "# Lower case\n",
    "A = Name.lower()"
   ]
  },
  {
   "cell_type": "code",
   "execution_count": 21,
   "id": "efc13e89-f314-447c-9e92-590ee174668c",
   "metadata": {},
   "outputs": [
    {
     "data": {
      "text/plain": [
       "'taylor swift'"
      ]
     },
     "execution_count": 21,
     "metadata": {},
     "output_type": "execute_result"
    }
   ],
   "source": [
    "A"
   ]
  },
  {
   "cell_type": "code",
   "execution_count": 23,
   "id": "47a430f5-294f-4dd3-a8ca-f5c0edc0b22d",
   "metadata": {},
   "outputs": [
    {
     "data": {
      "text/plain": [
       "'Taylor Swift'"
      ]
     },
     "execution_count": 23,
     "metadata": {},
     "output_type": "execute_result"
    }
   ],
   "source": [
    "#grab everything\n",
    "Name[:]"
   ]
  },
  {
   "cell_type": "code",
   "execution_count": 25,
   "id": "8bbb020c-046c-4d08-8ff8-b97984d55cb2",
   "metadata": {},
   "outputs": [
    {
     "name": "stdout",
     "output_type": "stream",
     "text": [
      "Taylor Swift is the best\n"
     ]
    }
   ],
   "source": [
    "#concatenate strings\n",
    "\n",
    "Statement = Name + \" is the best\"\n",
    "print(Statement)"
   ]
  },
  {
   "cell_type": "code",
   "execution_count": 26,
   "id": "df4d27b7-913f-4fdf-8099-6c278ddd2830",
   "metadata": {},
   "outputs": [
    {
     "data": {
      "text/plain": [
       "'S'"
      ]
     },
     "execution_count": 26,
     "metadata": {},
     "output_type": "execute_result"
    }
   ],
   "source": [
    "#indexing\n",
    "\n",
    "Name[7]"
   ]
  },
  {
   "cell_type": "code",
   "execution_count": 27,
   "id": "5ce26453-ef77-4c42-b794-421009fa2228",
   "metadata": {},
   "outputs": [
    {
     "data": {
      "text/plain": [
       "'tfiwS rolyaT'"
      ]
     },
     "execution_count": 27,
     "metadata": {},
     "output_type": "execute_result"
    }
   ],
   "source": [
    "#reverse string\n",
    "\n",
    "Name [::-1]"
   ]
  },
  {
   "cell_type": "code",
   "execution_count": 28,
   "id": "5639a7c8-7111-41eb-ae3a-be155de32327",
   "metadata": {},
   "outputs": [
    {
     "data": {
      "text/plain": [
       "['Taylor', 'Swift', 'is', 'the', 'best']"
      ]
     },
     "execution_count": 28,
     "metadata": {},
     "output_type": "execute_result"
    }
   ],
   "source": [
    "#split string\n",
    "Statement.split()"
   ]
  },
  {
   "cell_type": "code",
   "execution_count": 30,
   "id": "a6c8b642-62ec-43e0-982c-e060ceca74b4",
   "metadata": {},
   "outputs": [
    {
     "data": {
      "text/plain": [
       "['Taylor ', 'wift is the best']"
      ]
     },
     "execution_count": 30,
     "metadata": {},
     "output_type": "execute_result"
    }
   ],
   "source": [
    "#split string\n",
    "Statement.split('S')"
   ]
  },
  {
   "cell_type": "markdown",
   "id": "af6155ae-21a0-4226-918b-d9162b1f6d12",
   "metadata": {},
   "source": [
    "### String formatting\n"
   ]
  },
  {
   "cell_type": "code",
   "execution_count": 2,
   "id": "5b71a335-0e14-4bad-abee-7e8a2b1f6b8e",
   "metadata": {},
   "outputs": [
    {
     "data": {
      "text/plain": [
       "'Insert a string with this'"
      ]
     },
     "execution_count": 2,
     "metadata": {},
     "output_type": "execute_result"
    }
   ],
   "source": [
    "# we use format() method to add formatted objects to print string statements\n",
    "\n",
    "\"Insert a string {}\".format('with this')"
   ]
  },
  {
   "cell_type": "code",
   "execution_count": 4,
   "id": "8317fa2c-525a-4c83-9d7f-44bb9dffb645",
   "metadata": {},
   "outputs": [
    {
     "name": "stdout",
     "output_type": "stream",
     "text": [
      "I am going add something in this line\n"
     ]
    }
   ],
   "source": [
    "# using %s to inject strings in print statements\n",
    "\n",
    "print(\"I am going add %s in this line\" %('something'))"
   ]
  },
  {
   "cell_type": "code",
   "execution_count": 5,
   "id": "86b25f0e-1620-4fc5-8a6d-8d2b00b72fde",
   "metadata": {},
   "outputs": [
    {
     "name": "stdout",
     "output_type": "stream",
     "text": [
      "Hi! Welcome to Python programming\n"
     ]
    }
   ],
   "source": [
    "print(\"%s! Welcome to %s programming\" %('Hi','Python'))"
   ]
  },
  {
   "cell_type": "markdown",
   "id": "74f71849-46db-4abd-b733-d6db576bc48e",
   "metadata": {},
   "source": [
    "### The .format() method has several advantages over the %s placeholder method:\n",
    "\n",
    "1. Inserted objects can be called by index position\n",
    "2. Inserted objects can be assigned keywords\n",
    "3. Inserted objects can be reused, avoiding duplication"
   ]
  },
  {
   "cell_type": "code",
   "execution_count": 10,
   "id": "0bce17fc-9482-4c15-8a81-c5068386ba59",
   "metadata": {},
   "outputs": [
    {
     "name": "stdout",
     "output_type": "stream",
     "text": [
      "The gorgeous beautiful peacock\n"
     ]
    }
   ],
   "source": [
    "print(\"The {2} {1} {0}\".format('peacock', 'beautiful', 'gorgeous'))"
   ]
  },
  {
   "cell_type": "markdown",
   "id": "3d4043b0-22cf-4c28-a361-4e29503e734c",
   "metadata": {},
   "source": [
    "### Formatted String Literals (f-strings)"
   ]
  },
  {
   "cell_type": "code",
   "execution_count": 11,
   "id": "46049291-dfd2-4992-bcbd-f4ca204eb1d3",
   "metadata": {},
   "outputs": [
    {
     "name": "stdout",
     "output_type": "stream",
     "text": [
      "Welcome to Python\n"
     ]
    }
   ],
   "source": [
    "lang = \"Python\"\n",
    "\n",
    "print(f'Welcome to {lang}')"
   ]
  },
  {
   "cell_type": "markdown",
   "id": "e9e38c8d-7699-4482-a3bf-d8b06a36fb9d",
   "metadata": {},
   "source": [
    "# Practice String operations"
   ]
  },
  {
   "cell_type": "code",
   "execution_count": 13,
   "id": "14b9b942-b826-463b-980b-246ac24ba4e7",
   "metadata": {},
   "outputs": [],
   "source": [
    "test = \"communication\"\n",
    "\n",
    "#      0123456789101112"
   ]
  },
  {
   "cell_type": "code",
   "execution_count": 14,
   "id": "28cad58d-dade-43a6-ae5e-a9e033759df8",
   "metadata": {},
   "outputs": [
    {
     "data": {
      "text/plain": [
       "'t'"
      ]
     },
     "execution_count": 14,
     "metadata": {},
     "output_type": "execute_result"
    }
   ],
   "source": [
    "# indexing\n",
    "\n",
    "test[9]"
   ]
  },
  {
   "cell_type": "code",
   "execution_count": 15,
   "id": "e07e3ac3-a2b5-4019-9e9e-7f6696b06d47",
   "metadata": {},
   "outputs": [
    {
     "data": {
      "text/plain": [
       "'mmu'"
      ]
     },
     "execution_count": 15,
     "metadata": {},
     "output_type": "execute_result"
    }
   ],
   "source": [
    "#slicing\n",
    "\n",
    "test[2:5]"
   ]
  },
  {
   "cell_type": "code",
   "execution_count": 16,
   "id": "a6a1274c-c0cc-4457-a07b-e87c1433593f",
   "metadata": {},
   "outputs": [
    {
     "data": {
      "text/plain": [
       "'noitacinummoc'"
      ]
     },
     "execution_count": 16,
     "metadata": {},
     "output_type": "execute_result"
    }
   ],
   "source": [
    "#reverse\n",
    "\n",
    "test[::-1]"
   ]
  },
  {
   "cell_type": "code",
   "execution_count": 17,
   "id": "91f451c1-4817-4984-a39f-754a3eed87e2",
   "metadata": {},
   "outputs": [
    {
     "data": {
      "text/plain": [
       "13"
      ]
     },
     "execution_count": 17,
     "metadata": {},
     "output_type": "execute_result"
    }
   ],
   "source": [
    "#length\n",
    "\n",
    "len(test)"
   ]
  },
  {
   "cell_type": "code",
   "execution_count": 18,
   "id": "6a85529d-3a03-4895-8b6c-270815b98c04",
   "metadata": {},
   "outputs": [
    {
     "data": {
      "text/plain": [
       "'mmunication'"
      ]
     },
     "execution_count": 18,
     "metadata": {},
     "output_type": "execute_result"
    }
   ],
   "source": [
    "test[2:]"
   ]
  },
  {
   "cell_type": "code",
   "execution_count": 20,
   "id": "8d36d10e-1f75-4e5d-9b45-58c7a01beae4",
   "metadata": {},
   "outputs": [
    {
     "data": {
      "text/plain": [
       "'communication'"
      ]
     },
     "execution_count": 20,
     "metadata": {},
     "output_type": "execute_result"
    }
   ],
   "source": [
    "test.lower()"
   ]
  },
  {
   "cell_type": "code",
   "execution_count": 21,
   "id": "b573ab86-20a4-495e-a066-a83f429b0673",
   "metadata": {},
   "outputs": [
    {
     "data": {
      "text/plain": [
       "'COMMUNICATION'"
      ]
     },
     "execution_count": 21,
     "metadata": {},
     "output_type": "execute_result"
    }
   ],
   "source": [
    "test.upper()"
   ]
  },
  {
   "cell_type": "code",
   "execution_count": 22,
   "id": "00e42dce-1148-4f14-8f90-fa15efe8d2f4",
   "metadata": {},
   "outputs": [
    {
     "data": {
      "text/plain": [
       "False"
      ]
     },
     "execution_count": 22,
     "metadata": {},
     "output_type": "execute_result"
    }
   ],
   "source": [
    "\n",
    "test.isupper()"
   ]
  },
  {
   "cell_type": "code",
   "execution_count": 23,
   "id": "2e2073c6-1ba7-4cc9-9aab-67aee373125e",
   "metadata": {},
   "outputs": [
    {
     "data": {
      "text/plain": [
       "True"
      ]
     },
     "execution_count": 23,
     "metadata": {},
     "output_type": "execute_result"
    }
   ],
   "source": [
    "test.islower()"
   ]
  },
  {
   "cell_type": "code",
   "execution_count": 26,
   "id": "1d8eab1e-2581-4ebc-ba25-331d0bc1c881",
   "metadata": {},
   "outputs": [
    {
     "name": "stdout",
     "output_type": "stream",
     "text": [
      "Apple is priced at 23 dollars\n"
     ]
    }
   ],
   "source": [
    "# using %s \n",
    "\n",
    "print(\"Apple is priced at %s dollars\" %(23))"
   ]
  },
  {
   "cell_type": "code",
   "execution_count": null,
   "id": "f9902b21-7489-4b91-a16b-b7c5b13ce283",
   "metadata": {},
   "outputs": [],
   "source": []
  }
 ],
 "metadata": {
  "kernelspec": {
   "display_name": "Python 3 (ipykernel)",
   "language": "python",
   "name": "python3"
  },
  "language_info": {
   "codemirror_mode": {
    "name": "ipython",
    "version": 3
   },
   "file_extension": ".py",
   "mimetype": "text/x-python",
   "name": "python",
   "nbconvert_exporter": "python",
   "pygments_lexer": "ipython3",
   "version": "3.11.7"
  }
 },
 "nbformat": 4,
 "nbformat_minor": 5
}
