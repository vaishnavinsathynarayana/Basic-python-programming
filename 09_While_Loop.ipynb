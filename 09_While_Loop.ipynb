{
 "cells": [
  {
   "cell_type": "markdown",
   "id": "37b6981e-53db-43b2-b045-56b14b5b1243",
   "metadata": {},
   "source": [
    "# WHILE LOOP"
   ]
  },
  {
   "cell_type": "markdown",
   "id": "17a02a6a-c63c-42a6-9f08-24a205286aa2",
   "metadata": {},
   "source": [
    "1. A While statement in Python is one of the most general way to perform iteration.\n",
    "2. While statement will repeatedly execute a single statement or group of statements as long as the condition is True\n"
   ]
  },
  {
   "cell_type": "markdown",
   "id": "44587095-2d42-488a-a6e0-e4d79bd2d04c",
   "metadata": {},
   "source": [
    "### Syntax:\n",
    "\n",
    "while condition: \n",
    "\n",
    "    code statements"
   ]
  },
  {
   "cell_type": "code",
   "execution_count": 4,
   "id": "4a6c69bc-4bb4-4e0d-ab76-ceb140389db0",
   "metadata": {},
   "outputs": [
    {
     "name": "stdout",
     "output_type": "stream",
     "text": [
      "The current value of number is 0\n",
      "The current value of number is 1\n",
      "The current value of number is 2\n",
      "The current value of number is 3\n",
      "The current value of number is 4\n"
     ]
    }
   ],
   "source": [
    "x = 0\n",
    "\n",
    "while x < 5: \n",
    "    print(f\"The current value of number is {x}\")\n",
    "    x = x + 1"
   ]
  },
  {
   "cell_type": "code",
   "execution_count": 5,
   "id": "40683ffe-3ceb-4e7f-8867-e52ff15f0641",
   "metadata": {},
   "outputs": [
    {
     "name": "stdout",
     "output_type": "stream",
     "text": [
      "2000\n",
      "1978\n",
      "1996\n"
     ]
    }
   ],
   "source": [
    "year = [ 2000, 1978, 1996, 2017]\n",
    "i = 0\n",
    "yr = 0\n",
    "\n",
    "while (yr != 1996):\n",
    "    yr = year[i]\n",
    "    i = i + 1\n",
    "    print(yr)"
   ]
  },
  {
   "cell_type": "markdown",
   "id": "b3ca1e9b-2023-4029-b974-5757b741d356",
   "metadata": {},
   "source": [
    "##### took 3 repitions to get out of loop"
   ]
  },
  {
   "cell_type": "code",
   "execution_count": null,
   "id": "f1f6959d-adb8-47c0-841c-1129498629b8",
   "metadata": {},
   "outputs": [],
   "source": []
  }
 ],
 "metadata": {
  "kernelspec": {
   "display_name": "Python 3 (ipykernel)",
   "language": "python",
   "name": "python3"
  },
  "language_info": {
   "codemirror_mode": {
    "name": "ipython",
    "version": 3
   },
   "file_extension": ".py",
   "mimetype": "text/x-python",
   "name": "python",
   "nbconvert_exporter": "python",
   "pygments_lexer": "ipython3",
   "version": "3.11.7"
  }
 },
 "nbformat": 4,
 "nbformat_minor": 5
}
