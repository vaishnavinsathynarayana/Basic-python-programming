{
 "cells": [
  {
   "cell_type": "markdown",
   "id": "57a0264f-b922-442e-9cbc-5486f2235f95",
   "metadata": {},
   "source": [
    "# LIST COMPREHENSION"
   ]
  },
  {
   "cell_type": "markdown",
   "id": "95ccd00c-f12e-45fe-bead-a336e1f8ba92",
   "metadata": {},
   "source": [
    "1. Python has advanced feature called \"List comprehension\"\n",
    "2. List comprehension allows us for quick construction of Lists\n"
   ]
  },
  {
   "cell_type": "code",
   "execution_count": 1,
   "id": "0a8e9c0b-e7b9-423e-b561-37f92618d8a4",
   "metadata": {},
   "outputs": [
    {
     "name": "stdout",
     "output_type": "stream",
     "text": [
      "1\n",
      "2\n",
      "3\n",
      "8\n",
      "4\n",
      "3\n",
      "7\n",
      "2\n",
      "9\n"
     ]
    }
   ],
   "source": [
    "#using for loop dispalying items in list\n",
    "\n",
    "lst = [1, 2, 3, 8, 4, 3, 7, 2, 9]\n",
    "for i in lst:\n",
    "    print(i)"
   ]
  },
  {
   "cell_type": "code",
   "execution_count": 3,
   "id": "dc974201-bc46-4f63-94cd-68c4adbd0eed",
   "metadata": {},
   "outputs": [
    {
     "data": {
      "text/plain": [
       "[1, 2, 3, 8, 4, 3, 7, 2, 9]"
      ]
     },
     "execution_count": 3,
     "metadata": {},
     "output_type": "execute_result"
    }
   ],
   "source": [
    "#uisng list comprehension\n",
    "\n",
    "list1 = [x for x in lst ]\n",
    "list1"
   ]
  },
  {
   "cell_type": "code",
   "execution_count": 5,
   "id": "32031cf8-6016-4d5a-bddf-18eb92a7755d",
   "metadata": {},
   "outputs": [
    {
     "name": "stdout",
     "output_type": "stream",
     "text": [
      "[1, 4, 9, 16, 25]\n"
     ]
    }
   ],
   "source": [
    "# square of all the numbers in the list\n",
    "\n",
    "num = [1, 2, 3, 4, 5]\n",
    "task = [ i * i for i in num ]\n",
    "print(task)"
   ]
  },
  {
   "cell_type": "code",
   "execution_count": 6,
   "id": "78437226-dfbd-497f-93c6-efe08fe8cf97",
   "metadata": {},
   "outputs": [
    {
     "data": {
      "text/plain": [
       "['H', 'e', 'l', 'l', 'o']"
      ]
     },
     "execution_count": 6,
     "metadata": {},
     "output_type": "execute_result"
    }
   ],
   "source": [
    "#grab every letter in the string\n",
    "\n",
    "A = [ x for x in \"Hello\"]\n",
    "A"
   ]
  },
  {
   "cell_type": "code",
   "execution_count": 8,
   "id": "210a857a-530a-4688-a238-13b09c942ada",
   "metadata": {},
   "outputs": [
    {
     "data": {
      "text/plain": [
       "[0, 2, 4, 6, 8, 10]"
      ]
     },
     "execution_count": 8,
     "metadata": {},
     "output_type": "execute_result"
    }
   ],
   "source": [
    "# check for even nos. in a range\n",
    "\n",
    "C = [ x for x in range(11) if x % 2 == 0 ]\n",
    "C"
   ]
  },
  {
   "cell_type": "code",
   "execution_count": null,
   "id": "5d589529-c41d-4fbc-81bf-9d3301484b50",
   "metadata": {},
   "outputs": [],
   "source": []
  }
 ],
 "metadata": {
  "kernelspec": {
   "display_name": "Python 3 (ipykernel)",
   "language": "python",
   "name": "python3"
  },
  "language_info": {
   "codemirror_mode": {
    "name": "ipython",
    "version": 3
   },
   "file_extension": ".py",
   "mimetype": "text/x-python",
   "name": "python",
   "nbconvert_exporter": "python",
   "pygments_lexer": "ipython3",
   "version": "3.11.7"
  }
 },
 "nbformat": 4,
 "nbformat_minor": 5
}
