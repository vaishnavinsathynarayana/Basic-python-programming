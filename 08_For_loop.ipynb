{
 "cells": [
  {
   "cell_type": "markdown",
   "id": "bbf7245e-448a-4813-be68-4e5944e5458f",
   "metadata": {},
   "source": [
    "# FOR LOOP"
   ]
  },
  {
   "cell_type": "markdown",
   "id": "cc1573e0-1aa4-4d7c-9959-dd55b1b56fb5",
   "metadata": {},
   "source": [
    "A \"for\" loop acts as an iterator in Python, it goes through items that are in a sequence or any other iterable item. "
   ]
  },
  {
   "cell_type": "markdown",
   "id": "b0debf41-be21-4955-8587-91feb2ba5122",
   "metadata": {},
   "source": [
    "### Syntax:\n",
    "for item in object:\n",
    "    statements to do stuff"
   ]
  },
  {
   "cell_type": "code",
   "execution_count": 1,
   "id": "5635f8ad-8f8b-41bd-be4a-af3734a04e5b",
   "metadata": {},
   "outputs": [
    {
     "name": "stdout",
     "output_type": "stream",
     "text": [
      "1\n",
      "5\n",
      "3\n",
      "5\n",
      "3\n",
      "4\n",
      "6\n"
     ]
    }
   ],
   "source": [
    "#Iterating through alist\n",
    "\n",
    "list1 = [1, 5, 3, 5, 3, 4, 6]\n",
    "for i in list1:\n",
    "    print(i)"
   ]
  },
  {
   "cell_type": "code",
   "execution_count": 2,
   "id": "d8320740-68ab-4140-bff9-3c860b7de408",
   "metadata": {},
   "outputs": [
    {
     "name": "stdout",
     "output_type": "stream",
     "text": [
      "4\n",
      "6\n"
     ]
    }
   ],
   "source": [
    "# print even nos\n",
    "\n",
    "list_2 = [ 1, 2,3,4, 5, 6,7, 8]\n",
    "for num in list1:\n",
    "    if num%2 == 0:\n",
    "        print(num)"
   ]
  },
  {
   "cell_type": "code",
   "execution_count": 3,
   "id": "474ef55d-c0a4-45f0-a64a-a5aafb0fdc19",
   "metadata": {},
   "outputs": [
    {
     "name": "stdout",
     "output_type": "stream",
     "text": [
      "0\n",
      "1\n",
      "2\n",
      "3\n",
      "4\n",
      "5\n",
      "6\n",
      "7\n",
      "8\n"
     ]
    }
   ],
   "source": [
    "for x in range(0,9):\n",
    "    print(x)\n"
   ]
  },
  {
   "cell_type": "code",
   "execution_count": 6,
   "id": "0231b8e6-6966-4fc2-9372-44141b0cf92d",
   "metadata": {},
   "outputs": [
    {
     "name": "stdout",
     "output_type": "stream",
     "text": [
      "0\n",
      "1\n",
      "2\n",
      "3\n",
      "4\n",
      "Done\n"
     ]
    }
   ],
   "source": [
    "for i in range(0,10):\n",
    "    if i == 5:\n",
    "        break\n",
    "    print(i)\n",
    "print(\"Done\")"
   ]
  },
  {
   "cell_type": "code",
   "execution_count": 10,
   "id": "467047dd-7d80-4914-acf0-8858859aa4d0",
   "metadata": {},
   "outputs": [
    {
     "name": "stdout",
     "output_type": "stream",
     "text": [
      "15\n"
     ]
    }
   ],
   "source": [
    "list__ = [1,2,3,4,5]\n",
    "list_sum = 0\n",
    "for num in list__:\n",
    "    list_sum = list_sum + num\n",
    "print(list_sum)\n"
   ]
  },
  {
   "cell_type": "code",
   "execution_count": null,
   "id": "8402bfda-fc54-4c3c-9160-a9eeb98f5724",
   "metadata": {},
   "outputs": [],
   "source": []
  }
 ],
 "metadata": {
  "kernelspec": {
   "display_name": "Python 3 (ipykernel)",
   "language": "python",
   "name": "python3"
  },
  "language_info": {
   "codemirror_mode": {
    "name": "ipython",
    "version": 3
   },
   "file_extension": ".py",
   "mimetype": "text/x-python",
   "name": "python",
   "nbconvert_exporter": "python",
   "pygments_lexer": "ipython3",
   "version": "3.11.7"
  }
 },
 "nbformat": 4,
 "nbformat_minor": 5
}
